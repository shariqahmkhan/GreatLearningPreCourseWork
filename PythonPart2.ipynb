{
 "cells": [
  {
   "cell_type": "markdown",
   "id": "82df9f4a",
   "metadata": {},
   "source": [
    "#### Part 2\n",
    "1. print\n",
    "2. important (secret)\n",
    "3. OOPs\n",
    "4. lambda\n",
    "5. collection types (list, tuple, set and dictionary)\n",
    "6. Maps & filter"
   ]
  },
  {
   "cell_type": "code",
   "execution_count": 2,
   "id": "4f03c27d",
   "metadata": {},
   "outputs": [
    {
     "data": {
      "text/plain": [
       "8"
      ]
     },
     "execution_count": 2,
     "metadata": {},
     "output_type": "execute_result"
    }
   ],
   "source": [
    "# imported functions\n",
    "import random\n",
    "\n",
    "\n",
    "random.randint(1,10)"
   ]
  },
  {
   "cell_type": "code",
   "execution_count": 4,
   "id": "f83485b5",
   "metadata": {},
   "outputs": [
    {
     "data": {
      "text/plain": [
       "'\\ntype()\\nprint()\\nint()\\neval() - Type casting\\ninput()\\n'"
      ]
     },
     "execution_count": 4,
     "metadata": {},
     "output_type": "execute_result"
    }
   ],
   "source": [
    "# built in functions\n",
    "'''\n",
    "type()\n",
    "print()\n",
    "int()\n",
    "eval() - Type casting\n",
    "input()\n",
    "'''"
   ]
  },
  {
   "cell_type": "code",
   "execution_count": 6,
   "id": "5c5fb83f",
   "metadata": {},
   "outputs": [
    {
     "data": {
      "text/plain": [
       "'\\ndef <name of function>:\\n    do_something\\n    \\n'"
      ]
     },
     "execution_count": 6,
     "metadata": {},
     "output_type": "execute_result"
    }
   ],
   "source": [
    "# user defined functions\n",
    "'''\n",
    "def <name of function>:\n",
    "    do_something\n",
    "    \n",
    "'''"
   ]
  },
  {
   "cell_type": "code",
   "execution_count": 9,
   "id": "d77fa70b",
   "metadata": {},
   "outputs": [
    {
     "data": {
      "text/plain": [
       "<function __main__.<lambda>(x)>"
      ]
     },
     "execution_count": 9,
     "metadata": {},
     "output_type": "execute_result"
    }
   ],
   "source": [
    "# some fucntions that dont need any name - lambda\n",
    "\n",
    "lambda x: x+1"
   ]
  },
  {
   "cell_type": "code",
   "execution_count": 15,
   "id": "dd6e8eff",
   "metadata": {},
   "outputs": [],
   "source": [
    "a = lambda x,y: x + 1"
   ]
  },
  {
   "cell_type": "code",
   "execution_count": 16,
   "id": "e70732bf",
   "metadata": {},
   "outputs": [
    {
     "data": {
      "text/plain": [
       "2"
      ]
     },
     "execution_count": 16,
     "metadata": {},
     "output_type": "execute_result"
    }
   ],
   "source": [
    "a(1,4)"
   ]
  },
  {
   "cell_type": "code",
   "execution_count": 17,
   "id": "b4eb8c82",
   "metadata": {},
   "outputs": [],
   "source": [
    "# listen and serve , map\n"
   ]
  },
  {
   "cell_type": "code",
   "execution_count": 19,
   "id": "fc7d8926",
   "metadata": {},
   "outputs": [
    {
     "data": {
      "text/plain": [
       "2"
      ]
     },
     "execution_count": 19,
     "metadata": {},
     "output_type": "execute_result"
    }
   ],
   "source": [
    "# factorial\n",
    "# whatever number youu give - it reduces it to 1\n",
    "\n",
    "def factorial(x):\n",
    "    if x == 1:\n",
    "        return 1\n",
    "    else:\n",
    "        return x*factorial(x - 1)\n",
    "\n",
    "\n",
    "factorial(2) # 4*3*2*1 = 24"
   ]
  },
  {
   "cell_type": "code",
   "execution_count": 20,
   "id": "5f0c00ab",
   "metadata": {},
   "outputs": [],
   "source": [
    "'''\n",
    "2\n",
    "2*factorial(1)\n",
    "2*1\n",
    "\n",
    "'''"
   ]
  },
  {
   "cell_type": "code",
   "execution_count": 21,
   "id": "b95b76cd",
   "metadata": {},
   "outputs": [],
   "source": [
    "# homework - to design methodology to check if the number is negative or not\n",
    "# you should compute factorial\n",
    "\n",
    "# voluntary thing: if you can please implement the logic using code\n",
    "\n",
    "# homework 2 - implement factorial using lambda (lambda x: x - 1)"
   ]
  },
  {
   "cell_type": "code",
   "execution_count": 26,
   "id": "07aff537",
   "metadata": {},
   "outputs": [
    {
     "data": {
      "text/plain": [
       "6"
      ]
     },
     "execution_count": 26,
     "metadata": {},
     "output_type": "execute_result"
    }
   ],
   "source": [
    "y = lambda y: y + 1\n",
    "a = lambda x: x + 1 + y(2)\n",
    "\n",
    "a(2)"
   ]
  },
  {
   "cell_type": "code",
   "execution_count": 34,
   "id": "632a68cc",
   "metadata": {},
   "outputs": [],
   "source": [
    "# a = lambda x: x + 1 + y\n",
    "# a(2)\n",
    "\n",
    "# def a\n",
    "# def b\n",
    "\n",
    "# lambda <number of variables>: logic(x + 1, x - 1)\n",
    "\n",
    "y = lambda y: y + 1\n",
    "a = lambda x: x + 1 + (lambda x: x + 1)"
   ]
  },
  {
   "cell_type": "code",
   "execution_count": 35,
   "id": "8da75e3c",
   "metadata": {},
   "outputs": [],
   "source": [
    "# for, whlile"
   ]
  },
  {
   "cell_type": "code",
   "execution_count": 36,
   "id": "7d24b5aa",
   "metadata": {},
   "outputs": [
    {
     "name": "stdout",
     "output_type": "stream",
     "text": [
      "1 2 3 4 4\n"
     ]
    }
   ],
   "source": [
    "# print: \n",
    "print(1,2,3,4,4)"
   ]
  },
  {
   "cell_type": "code",
   "execution_count": 39,
   "id": "7c01b016",
   "metadata": {},
   "outputs": [
    {
     "name": "stdout",
     "output_type": "stream",
     "text": [
      "1:2:3:4\n"
     ]
    }
   ],
   "source": [
    "print(1,2,3,4, sep=\":\")"
   ]
  },
  {
   "cell_type": "code",
   "execution_count": 40,
   "id": "b354489c",
   "metadata": {},
   "outputs": [
    {
     "data": {
      "text/plain": [
       "'\\ndoc string\\n\\n'"
      ]
     },
     "execution_count": 40,
     "metadata": {},
     "output_type": "execute_result"
    }
   ],
   "source": [
    "'''\n",
    "doc string\n",
    "\n",
    "'''\n"
   ]
  },
  {
   "cell_type": "code",
   "execution_count": 41,
   "id": "c3200e30",
   "metadata": {},
   "outputs": [
    {
     "data": {
      "text/plain": [
       "['__call__',\n",
       " '__class__',\n",
       " '__delattr__',\n",
       " '__dir__',\n",
       " '__doc__',\n",
       " '__eq__',\n",
       " '__format__',\n",
       " '__ge__',\n",
       " '__getattribute__',\n",
       " '__gt__',\n",
       " '__hash__',\n",
       " '__init__',\n",
       " '__init_subclass__',\n",
       " '__le__',\n",
       " '__lt__',\n",
       " '__module__',\n",
       " '__name__',\n",
       " '__ne__',\n",
       " '__new__',\n",
       " '__qualname__',\n",
       " '__reduce__',\n",
       " '__reduce_ex__',\n",
       " '__repr__',\n",
       " '__self__',\n",
       " '__setattr__',\n",
       " '__sizeof__',\n",
       " '__str__',\n",
       " '__subclasshook__',\n",
       " '__text_signature__']"
      ]
     },
     "execution_count": 41,
     "metadata": {},
     "output_type": "execute_result"
    }
   ],
   "source": [
    "# dir\n",
    "dir(print)"
   ]
  },
  {
   "cell_type": "code",
   "execution_count": 42,
   "id": "25e5e309",
   "metadata": {},
   "outputs": [],
   "source": [
    "import random"
   ]
  },
  {
   "cell_type": "code",
   "execution_count": 43,
   "id": "0dc95cae",
   "metadata": {},
   "outputs": [
    {
     "data": {
      "text/plain": [
       "['BPF',\n",
       " 'LOG4',\n",
       " 'NV_MAGICCONST',\n",
       " 'RECIP_BPF',\n",
       " 'Random',\n",
       " 'SG_MAGICCONST',\n",
       " 'SystemRandom',\n",
       " 'TWOPI',\n",
       " '_Sequence',\n",
       " '_Set',\n",
       " '__all__',\n",
       " '__builtins__',\n",
       " '__cached__',\n",
       " '__doc__',\n",
       " '__file__',\n",
       " '__loader__',\n",
       " '__name__',\n",
       " '__package__',\n",
       " '__spec__',\n",
       " '_accumulate',\n",
       " '_acos',\n",
       " '_bisect',\n",
       " '_ceil',\n",
       " '_cos',\n",
       " '_e',\n",
       " '_exp',\n",
       " '_inst',\n",
       " '_log',\n",
       " '_os',\n",
       " '_pi',\n",
       " '_random',\n",
       " '_repeat',\n",
       " '_sha512',\n",
       " '_sin',\n",
       " '_sqrt',\n",
       " '_test',\n",
       " '_test_generator',\n",
       " '_urandom',\n",
       " '_warn',\n",
       " 'betavariate',\n",
       " 'choice',\n",
       " 'choices',\n",
       " 'expovariate',\n",
       " 'gammavariate',\n",
       " 'gauss',\n",
       " 'getrandbits',\n",
       " 'getstate',\n",
       " 'lognormvariate',\n",
       " 'normalvariate',\n",
       " 'paretovariate',\n",
       " 'randint',\n",
       " 'random',\n",
       " 'randrange',\n",
       " 'sample',\n",
       " 'seed',\n",
       " 'setstate',\n",
       " 'shuffle',\n",
       " 'triangular',\n",
       " 'uniform',\n",
       " 'vonmisesvariate',\n",
       " 'weibullvariate']"
      ]
     },
     "execution_count": 43,
     "metadata": {},
     "output_type": "execute_result"
    }
   ],
   "source": [
    "dir(random)"
   ]
  },
  {
   "cell_type": "code",
   "execution_count": 44,
   "id": "23402ffc",
   "metadata": {},
   "outputs": [
    {
     "data": {
      "text/plain": [
       "['__call__',\n",
       " '__class__',\n",
       " '__delattr__',\n",
       " '__dir__',\n",
       " '__doc__',\n",
       " '__eq__',\n",
       " '__format__',\n",
       " '__func__',\n",
       " '__ge__',\n",
       " '__get__',\n",
       " '__getattribute__',\n",
       " '__gt__',\n",
       " '__hash__',\n",
       " '__init__',\n",
       " '__init_subclass__',\n",
       " '__le__',\n",
       " '__lt__',\n",
       " '__ne__',\n",
       " '__new__',\n",
       " '__reduce__',\n",
       " '__reduce_ex__',\n",
       " '__repr__',\n",
       " '__self__',\n",
       " '__setattr__',\n",
       " '__sizeof__',\n",
       " '__str__',\n",
       " '__subclasshook__']"
      ]
     },
     "execution_count": 44,
     "metadata": {},
     "output_type": "execute_result"
    }
   ],
   "source": [
    "dir(random.randint)"
   ]
  },
  {
   "cell_type": "code",
   "execution_count": 45,
   "id": "22cfdeb8",
   "metadata": {},
   "outputs": [
    {
     "name": "stdout",
     "output_type": "stream",
     "text": [
      "Help on method randint in module random:\n",
      "\n",
      "randint(a, b) method of random.Random instance\n",
      "    Return random integer in range [a, b], including both end points.\n",
      "\n"
     ]
    }
   ],
   "source": [
    "help(random.randint)"
   ]
  },
  {
   "cell_type": "code",
   "execution_count": 46,
   "id": "97f9fc32",
   "metadata": {},
   "outputs": [],
   "source": [
    "# [], [)"
   ]
  },
  {
   "cell_type": "code",
   "execution_count": 47,
   "id": "434b261c",
   "metadata": {},
   "outputs": [
    {
     "name": "stdout",
     "output_type": "stream",
     "text": [
      "Help on built-in function print in module builtins:\n",
      "\n",
      "print(...)\n",
      "    print(value, ..., sep=' ', end='\\n', file=sys.stdout, flush=False)\n",
      "    \n",
      "    Prints the values to a stream, or to sys.stdout by default.\n",
      "    Optional keyword arguments:\n",
      "    file:  a file-like object (stream); defaults to the current sys.stdout.\n",
      "    sep:   string inserted between values, default a space.\n",
      "    end:   string appended after the last value, default a newline.\n",
      "    flush: whether to forcibly flush the stream.\n",
      "\n"
     ]
    }
   ],
   "source": [
    "help(print)"
   ]
  },
  {
   "cell_type": "code",
   "execution_count": 48,
   "id": "4a6e843a",
   "metadata": {},
   "outputs": [
    {
     "name": "stdout",
     "output_type": "stream",
     "text": [
      "Help on built-in function eval in module builtins:\n",
      "\n",
      "eval(source, globals=None, locals=None, /)\n",
      "    Evaluate the given source in the context of globals and locals.\n",
      "    \n",
      "    The source may be a string representing a Python expression\n",
      "    or a code object as returned by compile().\n",
      "    The globals must be a dictionary and locals can be any mapping,\n",
      "    defaulting to the current globals and locals.\n",
      "    If only globals is given, locals defaults to it.\n",
      "\n"
     ]
    }
   ],
   "source": [
    "help(eval)"
   ]
  },
  {
   "cell_type": "code",
   "execution_count": 49,
   "id": "f27829bc",
   "metadata": {},
   "outputs": [
    {
     "name": "stdout",
     "output_type": "stream",
     "text": [
      "Help on class type in module builtins:\n",
      "\n",
      "class type(object)\n",
      " |  type(object_or_name, bases, dict)\n",
      " |  type(object) -> the object's type\n",
      " |  type(name, bases, dict) -> a new type\n",
      " |  \n",
      " |  Methods defined here:\n",
      " |  \n",
      " |  __call__(self, /, *args, **kwargs)\n",
      " |      Call self as a function.\n",
      " |  \n",
      " |  __delattr__(self, name, /)\n",
      " |      Implement delattr(self, name).\n",
      " |  \n",
      " |  __dir__(self, /)\n",
      " |      Specialized __dir__ implementation for types.\n",
      " |  \n",
      " |  __getattribute__(self, name, /)\n",
      " |      Return getattr(self, name).\n",
      " |  \n",
      " |  __init__(self, /, *args, **kwargs)\n",
      " |      Initialize self.  See help(type(self)) for accurate signature.\n",
      " |  \n",
      " |  __instancecheck__(self, instance, /)\n",
      " |      Check if an object is an instance.\n",
      " |  \n",
      " |  __repr__(self, /)\n",
      " |      Return repr(self).\n",
      " |  \n",
      " |  __setattr__(self, name, value, /)\n",
      " |      Implement setattr(self, name, value).\n",
      " |  \n",
      " |  __sizeof__(self, /)\n",
      " |      Return memory consumption of the type object.\n",
      " |  \n",
      " |  __subclasscheck__(self, subclass, /)\n",
      " |      Check if a class is a subclass.\n",
      " |  \n",
      " |  __subclasses__(self, /)\n",
      " |      Return a list of immediate subclasses.\n",
      " |  \n",
      " |  mro(self, /)\n",
      " |      Return a type's method resolution order.\n",
      " |  \n",
      " |  ----------------------------------------------------------------------\n",
      " |  Class methods defined here:\n",
      " |  \n",
      " |  __prepare__(...)\n",
      " |      __prepare__() -> dict\n",
      " |      used to create the namespace for the class statement\n",
      " |  \n",
      " |  ----------------------------------------------------------------------\n",
      " |  Static methods defined here:\n",
      " |  \n",
      " |  __new__(*args, **kwargs)\n",
      " |      Create and return a new object.  See help(type) for accurate signature.\n",
      " |  \n",
      " |  ----------------------------------------------------------------------\n",
      " |  Data descriptors defined here:\n",
      " |  \n",
      " |  __abstractmethods__\n",
      " |  \n",
      " |  __dict__\n",
      " |  \n",
      " |  __text_signature__\n",
      " |  \n",
      " |  ----------------------------------------------------------------------\n",
      " |  Data and other attributes defined here:\n",
      " |  \n",
      " |  __base__ = <class 'object'>\n",
      " |      The base class of the class hierarchy.\n",
      " |      \n",
      " |      When called, it accepts no arguments and returns a new featureless\n",
      " |      instance that has no instance attributes and cannot be given any.\n",
      " |  \n",
      " |  __bases__ = (<class 'object'>,)\n",
      " |  \n",
      " |  __basicsize__ = 880\n",
      " |  \n",
      " |  __dictoffset__ = 264\n",
      " |  \n",
      " |  __flags__ = 2148291584\n",
      " |  \n",
      " |  __itemsize__ = 40\n",
      " |  \n",
      " |  __mro__ = (<class 'type'>, <class 'object'>)\n",
      " |  \n",
      " |  __weakrefoffset__ = 368\n",
      "\n"
     ]
    }
   ],
   "source": [
    "help(type)"
   ]
  },
  {
   "cell_type": "code",
   "execution_count": 50,
   "id": "904c8199",
   "metadata": {},
   "outputs": [],
   "source": [
    "# vs code, pycharm\n",
    "# OOPs: python is not strictly OOPs\n",
    "# inspired from world: \n",
    "# bottle, Kenley\n",
    "\n",
    "class bottle:\n",
    "    \n",
    "    def __init__(self,brand, volume, price): #dunder\n",
    "        self.brand = brand\n",
    "        self.volume = volume\n",
    "        self.price = price"
   ]
  },
  {
   "cell_type": "code",
   "execution_count": 55,
   "id": "261c75b7",
   "metadata": {},
   "outputs": [],
   "source": [
    "b = bottle"
   ]
  },
  {
   "cell_type": "code",
   "execution_count": 57,
   "id": "2b04f5c0",
   "metadata": {},
   "outputs": [
    {
     "name": "stdout",
     "output_type": "stream",
     "text": [
      "Help on class bottle in module __main__:\n",
      "\n",
      "class bottle(builtins.object)\n",
      " |  bottle(brand, volume, price)\n",
      " |  \n",
      " |  Methods defined here:\n",
      " |  \n",
      " |  __init__(self, brand, volume, price)\n",
      " |      Initialize self.  See help(type(self)) for accurate signature.\n",
      " |  \n",
      " |  ----------------------------------------------------------------------\n",
      " |  Data descriptors defined here:\n",
      " |  \n",
      " |  __dict__\n",
      " |      dictionary for instance variables (if defined)\n",
      " |  \n",
      " |  __weakref__\n",
      " |      list of weak references to the object (if defined)\n",
      "\n"
     ]
    }
   ],
   "source": [
    "help(b)"
   ]
  },
  {
   "cell_type": "code",
   "execution_count": 59,
   "id": "df9ae3d6",
   "metadata": {},
   "outputs": [],
   "source": [
    "b = bottle(\"kenley\", 1, 10)"
   ]
  },
  {
   "cell_type": "code",
   "execution_count": 60,
   "id": "ec9ba5a2",
   "metadata": {},
   "outputs": [
    {
     "data": {
      "text/plain": [
       "'kenley'"
      ]
     },
     "execution_count": 60,
     "metadata": {},
     "output_type": "execute_result"
    }
   ],
   "source": [
    "b.brand"
   ]
  },
  {
   "cell_type": "code",
   "execution_count": 61,
   "id": "aeee5e38",
   "metadata": {},
   "outputs": [
    {
     "data": {
      "text/plain": [
       "10"
      ]
     },
     "execution_count": 61,
     "metadata": {},
     "output_type": "execute_result"
    }
   ],
   "source": [
    "b.price"
   ]
  },
  {
   "cell_type": "code",
   "execution_count": 62,
   "id": "b8c3330f",
   "metadata": {},
   "outputs": [
    {
     "data": {
      "text/plain": [
       "1"
      ]
     },
     "execution_count": 62,
     "metadata": {},
     "output_type": "execute_result"
    }
   ],
   "source": [
    "b.volume"
   ]
  },
  {
   "cell_type": "code",
   "execution_count": 63,
   "id": "f6215728",
   "metadata": {},
   "outputs": [],
   "source": [
    "a = bottle(\"shariq\",\"until grave\" ,\"whatever he decides\")"
   ]
  },
  {
   "cell_type": "code",
   "execution_count": 64,
   "id": "2f23d5c0",
   "metadata": {},
   "outputs": [
    {
     "data": {
      "text/plain": [
       "'shariq'"
      ]
     },
     "execution_count": 64,
     "metadata": {},
     "output_type": "execute_result"
    }
   ],
   "source": [
    "a.brand"
   ]
  },
  {
   "cell_type": "code",
   "execution_count": 65,
   "id": "1dcc17fb",
   "metadata": {},
   "outputs": [
    {
     "data": {
      "text/plain": [
       "'until grave'"
      ]
     },
     "execution_count": 65,
     "metadata": {},
     "output_type": "execute_result"
    }
   ],
   "source": [
    "a.volume"
   ]
  },
  {
   "cell_type": "code",
   "execution_count": 66,
   "id": "a0e02c02",
   "metadata": {},
   "outputs": [
    {
     "data": {
      "text/plain": [
       "'whatever he decides'"
      ]
     },
     "execution_count": 66,
     "metadata": {},
     "output_type": "execute_result"
    }
   ],
   "source": [
    "a.price"
   ]
  },
  {
   "cell_type": "code",
   "execution_count": 67,
   "id": "850ad7df",
   "metadata": {},
   "outputs": [
    {
     "data": {
      "text/plain": [
       "2"
      ]
     },
     "execution_count": 67,
     "metadata": {},
     "output_type": "execute_result"
    }
   ],
   "source": [
    "1 + 1"
   ]
  },
  {
   "cell_type": "code",
   "execution_count": 68,
   "id": "866c7b7a",
   "metadata": {},
   "outputs": [
    {
     "data": {
      "text/plain": [
       "['__abs__',\n",
       " '__add__',\n",
       " '__and__',\n",
       " '__bool__',\n",
       " '__ceil__',\n",
       " '__class__',\n",
       " '__delattr__',\n",
       " '__dir__',\n",
       " '__divmod__',\n",
       " '__doc__',\n",
       " '__eq__',\n",
       " '__float__',\n",
       " '__floor__',\n",
       " '__floordiv__',\n",
       " '__format__',\n",
       " '__ge__',\n",
       " '__getattribute__',\n",
       " '__getnewargs__',\n",
       " '__gt__',\n",
       " '__hash__',\n",
       " '__index__',\n",
       " '__init__',\n",
       " '__init_subclass__',\n",
       " '__int__',\n",
       " '__invert__',\n",
       " '__le__',\n",
       " '__lshift__',\n",
       " '__lt__',\n",
       " '__mod__',\n",
       " '__mul__',\n",
       " '__ne__',\n",
       " '__neg__',\n",
       " '__new__',\n",
       " '__or__',\n",
       " '__pos__',\n",
       " '__pow__',\n",
       " '__radd__',\n",
       " '__rand__',\n",
       " '__rdivmod__',\n",
       " '__reduce__',\n",
       " '__reduce_ex__',\n",
       " '__repr__',\n",
       " '__rfloordiv__',\n",
       " '__rlshift__',\n",
       " '__rmod__',\n",
       " '__rmul__',\n",
       " '__ror__',\n",
       " '__round__',\n",
       " '__rpow__',\n",
       " '__rrshift__',\n",
       " '__rshift__',\n",
       " '__rsub__',\n",
       " '__rtruediv__',\n",
       " '__rxor__',\n",
       " '__setattr__',\n",
       " '__sizeof__',\n",
       " '__str__',\n",
       " '__sub__',\n",
       " '__subclasshook__',\n",
       " '__truediv__',\n",
       " '__trunc__',\n",
       " '__xor__',\n",
       " 'as_integer_ratio',\n",
       " 'bit_length',\n",
       " 'conjugate',\n",
       " 'denominator',\n",
       " 'from_bytes',\n",
       " 'imag',\n",
       " 'numerator',\n",
       " 'real',\n",
       " 'to_bytes']"
      ]
     },
     "execution_count": 68,
     "metadata": {},
     "output_type": "execute_result"
    }
   ],
   "source": [
    "dir(1)"
   ]
  },
  {
   "cell_type": "code",
   "execution_count": 72,
   "id": "d2baac71",
   "metadata": {},
   "outputs": [
    {
     "data": {
      "text/plain": [
       "'shariqkhan'"
      ]
     },
     "execution_count": 72,
     "metadata": {},
     "output_type": "execute_result"
    }
   ],
   "source": [
    "\"shariq\".__add__(\"khan\")"
   ]
  },
  {
   "cell_type": "code",
   "execution_count": 73,
   "id": "5fbfff16",
   "metadata": {},
   "outputs": [
    {
     "data": {
      "text/plain": [
       "'shariq khan'"
      ]
     },
     "execution_count": 73,
     "metadata": {},
     "output_type": "execute_result"
    }
   ],
   "source": [
    "\"shariq\" + \" khan\""
   ]
  },
  {
   "cell_type": "code",
   "execution_count": 74,
   "id": "dd6fefcb",
   "metadata": {},
   "outputs": [
    {
     "data": {
      "text/plain": [
       "'shariqshariqshariq'"
      ]
     },
     "execution_count": 74,
     "metadata": {},
     "output_type": "execute_result"
    }
   ],
   "source": [
    "\"shariq\"*3"
   ]
  },
  {
   "cell_type": "code",
   "execution_count": 76,
   "id": "82094964",
   "metadata": {},
   "outputs": [
    {
     "data": {
      "text/plain": [
       "['__add__',\n",
       " '__class__',\n",
       " '__contains__',\n",
       " '__delattr__',\n",
       " '__dir__',\n",
       " '__doc__',\n",
       " '__eq__',\n",
       " '__format__',\n",
       " '__ge__',\n",
       " '__getattribute__',\n",
       " '__getitem__',\n",
       " '__getnewargs__',\n",
       " '__gt__',\n",
       " '__hash__',\n",
       " '__init__',\n",
       " '__init_subclass__',\n",
       " '__iter__',\n",
       " '__le__',\n",
       " '__len__',\n",
       " '__lt__',\n",
       " '__mod__',\n",
       " '__mul__',\n",
       " '__ne__',\n",
       " '__new__',\n",
       " '__reduce__',\n",
       " '__reduce_ex__',\n",
       " '__repr__',\n",
       " '__rmod__',\n",
       " '__rmul__',\n",
       " '__setattr__',\n",
       " '__sizeof__',\n",
       " '__str__',\n",
       " '__subclasshook__',\n",
       " 'capitalize',\n",
       " 'casefold',\n",
       " 'center',\n",
       " 'count',\n",
       " 'encode',\n",
       " 'endswith',\n",
       " 'expandtabs',\n",
       " 'find',\n",
       " 'format',\n",
       " 'format_map',\n",
       " 'index',\n",
       " 'isalnum',\n",
       " 'isalpha',\n",
       " 'isascii',\n",
       " 'isdecimal',\n",
       " 'isdigit',\n",
       " 'isidentifier',\n",
       " 'islower',\n",
       " 'isnumeric',\n",
       " 'isprintable',\n",
       " 'isspace',\n",
       " 'istitle',\n",
       " 'isupper',\n",
       " 'join',\n",
       " 'ljust',\n",
       " 'lower',\n",
       " 'lstrip',\n",
       " 'maketrans',\n",
       " 'partition',\n",
       " 'replace',\n",
       " 'rfind',\n",
       " 'rindex',\n",
       " 'rjust',\n",
       " 'rpartition',\n",
       " 'rsplit',\n",
       " 'rstrip',\n",
       " 'split',\n",
       " 'splitlines',\n",
       " 'startswith',\n",
       " 'strip',\n",
       " 'swapcase',\n",
       " 'title',\n",
       " 'translate',\n",
       " 'upper',\n",
       " 'zfill']"
      ]
     },
     "execution_count": 76,
     "metadata": {},
     "output_type": "execute_result"
    }
   ],
   "source": [
    "dir(\"shariq\")"
   ]
  },
  {
   "cell_type": "code",
   "execution_count": 77,
   "id": "4cb3f321",
   "metadata": {},
   "outputs": [
    {
     "data": {
      "text/plain": [
       "6"
      ]
     },
     "execution_count": 77,
     "metadata": {},
     "output_type": "execute_result"
    }
   ],
   "source": [
    "len(\"shariq\")"
   ]
  },
  {
   "cell_type": "code",
   "execution_count": 78,
   "id": "9bb77965",
   "metadata": {},
   "outputs": [],
   "source": [
    "# polymorphism, inheritance, encapsulation, data hiding"
   ]
  },
  {
   "cell_type": "code",
   "execution_count": 79,
   "id": "47b7813a",
   "metadata": {},
   "outputs": [
    {
     "data": {
      "text/plain": [
       "['BPF',\n",
       " 'LOG4',\n",
       " 'NV_MAGICCONST',\n",
       " 'RECIP_BPF',\n",
       " 'Random',\n",
       " 'SG_MAGICCONST',\n",
       " 'SystemRandom',\n",
       " 'TWOPI',\n",
       " '_Sequence',\n",
       " '_Set',\n",
       " '__all__',\n",
       " '__builtins__',\n",
       " '__cached__',\n",
       " '__doc__',\n",
       " '__file__',\n",
       " '__loader__',\n",
       " '__name__',\n",
       " '__package__',\n",
       " '__spec__',\n",
       " '_accumulate',\n",
       " '_acos',\n",
       " '_bisect',\n",
       " '_ceil',\n",
       " '_cos',\n",
       " '_e',\n",
       " '_exp',\n",
       " '_inst',\n",
       " '_log',\n",
       " '_os',\n",
       " '_pi',\n",
       " '_random',\n",
       " '_repeat',\n",
       " '_sha512',\n",
       " '_sin',\n",
       " '_sqrt',\n",
       " '_test',\n",
       " '_test_generator',\n",
       " '_urandom',\n",
       " '_warn',\n",
       " 'betavariate',\n",
       " 'choice',\n",
       " 'choices',\n",
       " 'expovariate',\n",
       " 'gammavariate',\n",
       " 'gauss',\n",
       " 'getrandbits',\n",
       " 'getstate',\n",
       " 'lognormvariate',\n",
       " 'normalvariate',\n",
       " 'paretovariate',\n",
       " 'randint',\n",
       " 'random',\n",
       " 'randrange',\n",
       " 'sample',\n",
       " 'seed',\n",
       " 'setstate',\n",
       " 'shuffle',\n",
       " 'triangular',\n",
       " 'uniform',\n",
       " 'vonmisesvariate',\n",
       " 'weibullvariate']"
      ]
     },
     "execution_count": 79,
     "metadata": {},
     "output_type": "execute_result"
    }
   ],
   "source": [
    "dir(random)"
   ]
  },
  {
   "cell_type": "code",
   "execution_count": 80,
   "id": "6f7cd17d",
   "metadata": {},
   "outputs": [],
   "source": [
    "# sdk: software defined kit (aws_sdk)"
   ]
  },
  {
   "cell_type": "code",
   "execution_count": 81,
   "id": "df2e87f2",
   "metadata": {},
   "outputs": [],
   "source": [
    "# collection: \n",
    "# for alphabet in \"shariq\":\n",
    "#     print(alphabet)"
   ]
  },
  {
   "cell_type": "code",
   "execution_count": 83,
   "id": "7775b56a",
   "metadata": {},
   "outputs": [],
   "source": [
    "# collection: (List, tuple), (set and dictionary)"
   ]
  },
  {
   "cell_type": "code",
   "execution_count": 84,
   "id": "a7eb3989",
   "metadata": {},
   "outputs": [
    {
     "data": {
      "text/plain": [
       "'shariq'"
      ]
     },
     "execution_count": 84,
     "metadata": {},
     "output_type": "execute_result"
    }
   ],
   "source": [
    "# ordered collection: list and tuple\n",
    "\"shariq\""
   ]
  },
  {
   "cell_type": "code",
   "execution_count": 93,
   "id": "73d3a445",
   "metadata": {},
   "outputs": [
    {
     "data": {
      "text/plain": [
       "'s'"
      ]
     },
     "execution_count": 93,
     "metadata": {},
     "output_type": "execute_result"
    }
   ],
   "source": [
    "\"shariq\"[0] # ordered collection types"
   ]
  },
  {
   "cell_type": "code",
   "execution_count": null,
   "id": "715dc2f5",
   "metadata": {},
   "outputs": [],
   "source": [
    "# unordered collection: set and dictionary"
   ]
  },
  {
   "cell_type": "code",
   "execution_count": 94,
   "id": "1c9ee89e",
   "metadata": {},
   "outputs": [
    {
     "data": {
      "text/plain": [
       "[1, 2, 3, 4, 5, 6, 7, 8]"
      ]
     },
     "execution_count": 94,
     "metadata": {},
     "output_type": "execute_result"
    }
   ],
   "source": [
    "[1,2,3,4,5,6,7,8]"
   ]
  },
  {
   "cell_type": "code",
   "execution_count": 95,
   "id": "45ff975b",
   "metadata": {},
   "outputs": [
    {
     "data": {
      "text/plain": [
       "'\\n1. wear mehnga lehnga\\n2. sword\\n3. jutti\\n4. cash for saliyan\\n5. boys to protect\\n\\n'"
      ]
     },
     "execution_count": 95,
     "metadata": {},
     "output_type": "execute_result"
    }
   ],
   "source": [
    "'''\n",
    "1. wear mehnga lehnga\n",
    "2. sword\n",
    "3. jutti\n",
    "4. cash for saliyan\n",
    "5. boys to protect\n",
    "\n",
    "'''"
   ]
  },
  {
   "cell_type": "code",
   "execution_count": 96,
   "id": "f48dad70",
   "metadata": {},
   "outputs": [
    {
     "data": {
      "text/plain": [
       "['mehnga', 'mehndi', 'churiyan']"
      ]
     },
     "execution_count": 96,
     "metadata": {},
     "output_type": "execute_result"
    }
   ],
   "source": [
    "[\"mehnga\", \"mehndi\", \"churiyan\"]"
   ]
  },
  {
   "cell_type": "code",
   "execution_count": 99,
   "id": "359bf0c2",
   "metadata": {},
   "outputs": [],
   "source": [
    "wedding = [\"mehnga lehnga\", \"mehndi\", \"churiyan\"]"
   ]
  },
  {
   "cell_type": "code",
   "execution_count": 100,
   "id": "963e4fcf",
   "metadata": {},
   "outputs": [
    {
     "data": {
      "text/plain": [
       "'mehnga lehnga'"
      ]
     },
     "execution_count": 100,
     "metadata": {},
     "output_type": "execute_result"
    }
   ],
   "source": [
    "wedding[0]"
   ]
  },
  {
   "cell_type": "code",
   "execution_count": 101,
   "id": "8657fa02",
   "metadata": {},
   "outputs": [
    {
     "data": {
      "text/plain": [
       "'mehndi'"
      ]
     },
     "execution_count": 101,
     "metadata": {},
     "output_type": "execute_result"
    }
   ],
   "source": [
    "wedding[1]"
   ]
  },
  {
   "cell_type": "code",
   "execution_count": 102,
   "id": "1b0b219a",
   "metadata": {},
   "outputs": [
    {
     "data": {
      "text/plain": [
       "'churiyan'"
      ]
     },
     "execution_count": 102,
     "metadata": {},
     "output_type": "execute_result"
    }
   ],
   "source": [
    "wedding[2]"
   ]
  },
  {
   "cell_type": "code",
   "execution_count": 106,
   "id": "ec681bdb",
   "metadata": {},
   "outputs": [],
   "source": [
    "# list: [] - mutable\n",
    "# tuple: () - immutable\n",
    "f = (\"abcd\",\"def\", \"asda\")"
   ]
  },
  {
   "cell_type": "code",
   "execution_count": 107,
   "id": "d8c6350d",
   "metadata": {},
   "outputs": [],
   "source": [
    "cars = [\"jetta\", \"800\", \"versa\", \"verna\", \"s\"]"
   ]
  },
  {
   "cell_type": "code",
   "execution_count": 108,
   "id": "f8310872",
   "metadata": {},
   "outputs": [
    {
     "data": {
      "text/plain": [
       "['__add__',\n",
       " '__class__',\n",
       " '__contains__',\n",
       " '__delattr__',\n",
       " '__delitem__',\n",
       " '__dir__',\n",
       " '__doc__',\n",
       " '__eq__',\n",
       " '__format__',\n",
       " '__ge__',\n",
       " '__getattribute__',\n",
       " '__getitem__',\n",
       " '__gt__',\n",
       " '__hash__',\n",
       " '__iadd__',\n",
       " '__imul__',\n",
       " '__init__',\n",
       " '__init_subclass__',\n",
       " '__iter__',\n",
       " '__le__',\n",
       " '__len__',\n",
       " '__lt__',\n",
       " '__mul__',\n",
       " '__ne__',\n",
       " '__new__',\n",
       " '__reduce__',\n",
       " '__reduce_ex__',\n",
       " '__repr__',\n",
       " '__reversed__',\n",
       " '__rmul__',\n",
       " '__setattr__',\n",
       " '__setitem__',\n",
       " '__sizeof__',\n",
       " '__str__',\n",
       " '__subclasshook__',\n",
       " 'append',\n",
       " 'clear',\n",
       " 'copy',\n",
       " 'count',\n",
       " 'extend',\n",
       " 'index',\n",
       " 'insert',\n",
       " 'pop',\n",
       " 'remove',\n",
       " 'reverse',\n",
       " 'sort']"
      ]
     },
     "execution_count": 108,
     "metadata": {},
     "output_type": "execute_result"
    }
   ],
   "source": [
    "dir(cars)"
   ]
  },
  {
   "cell_type": "code",
   "execution_count": 109,
   "id": "2c58c291",
   "metadata": {},
   "outputs": [],
   "source": [
    "cars.append(\"hector\")"
   ]
  },
  {
   "cell_type": "code",
   "execution_count": 110,
   "id": "11de36d6",
   "metadata": {},
   "outputs": [
    {
     "data": {
      "text/plain": [
       "['jetta', '800', 'versa', 'verna', 's', 'hector']"
      ]
     },
     "execution_count": 110,
     "metadata": {},
     "output_type": "execute_result"
    }
   ],
   "source": [
    "cars"
   ]
  },
  {
   "cell_type": "code",
   "execution_count": 111,
   "id": "c6da081d",
   "metadata": {},
   "outputs": [],
   "source": [
    "cars.append(\"ambassador\")"
   ]
  },
  {
   "cell_type": "code",
   "execution_count": 112,
   "id": "481bd960",
   "metadata": {},
   "outputs": [
    {
     "data": {
      "text/plain": [
       "['jetta', '800', 'versa', 'verna', 's', 'hector', 'ambassador']"
      ]
     },
     "execution_count": 112,
     "metadata": {},
     "output_type": "execute_result"
    }
   ],
   "source": [
    "cars"
   ]
  },
  {
   "cell_type": "code",
   "execution_count": 113,
   "id": "a51badc9",
   "metadata": {},
   "outputs": [],
   "source": [
    "cars.append(\"mg\")"
   ]
  },
  {
   "cell_type": "code",
   "execution_count": 114,
   "id": "6f3b1471",
   "metadata": {},
   "outputs": [
    {
     "data": {
      "text/plain": [
       "['jetta', '800', 'versa', 'verna', 's', 'hector', 'ambassador', 'mg']"
      ]
     },
     "execution_count": 114,
     "metadata": {},
     "output_type": "execute_result"
    }
   ],
   "source": [
    "cars"
   ]
  },
  {
   "cell_type": "code",
   "execution_count": 115,
   "id": "aeb08a2c",
   "metadata": {},
   "outputs": [
    {
     "name": "stdout",
     "output_type": "stream",
     "text": [
      "Help on built-in function insert:\n",
      "\n",
      "insert(index, object, /) method of builtins.list instance\n",
      "    Insert object before index.\n",
      "\n"
     ]
    }
   ],
   "source": [
    "help(cars.insert)"
   ]
  },
  {
   "cell_type": "code",
   "execution_count": 116,
   "id": "7302fe63",
   "metadata": {},
   "outputs": [],
   "source": [
    "cars.insert(3, \"mere abba ki gaddi\")"
   ]
  },
  {
   "cell_type": "code",
   "execution_count": 117,
   "id": "d727f2ab",
   "metadata": {},
   "outputs": [
    {
     "data": {
      "text/plain": [
       "['jetta',\n",
       " '800',\n",
       " 'versa',\n",
       " 'mere abba ki gaddi',\n",
       " 'verna',\n",
       " 's',\n",
       " 'hector',\n",
       " 'ambassador',\n",
       " 'mg']"
      ]
     },
     "execution_count": 117,
     "metadata": {},
     "output_type": "execute_result"
    }
   ],
   "source": [
    "cars"
   ]
  },
  {
   "cell_type": "code",
   "execution_count": 118,
   "id": "1f1deddb",
   "metadata": {},
   "outputs": [
    {
     "data": {
      "text/plain": [
       "'mg'"
      ]
     },
     "execution_count": 118,
     "metadata": {},
     "output_type": "execute_result"
    }
   ],
   "source": [
    "cars.pop()"
   ]
  },
  {
   "cell_type": "code",
   "execution_count": 119,
   "id": "9d7b1faa",
   "metadata": {},
   "outputs": [
    {
     "data": {
      "text/plain": [
       "'ambassador'"
      ]
     },
     "execution_count": 119,
     "metadata": {},
     "output_type": "execute_result"
    }
   ],
   "source": [
    "cars.pop()"
   ]
  },
  {
   "cell_type": "code",
   "execution_count": 120,
   "id": "59a600d5",
   "metadata": {},
   "outputs": [
    {
     "data": {
      "text/plain": [
       "['jetta', '800', 'versa', 'mere abba ki gaddi', 'verna', 's', 'hector']"
      ]
     },
     "execution_count": 120,
     "metadata": {},
     "output_type": "execute_result"
    }
   ],
   "source": [
    "cars"
   ]
  },
  {
   "cell_type": "code",
   "execution_count": 121,
   "id": "240f9f31",
   "metadata": {},
   "outputs": [
    {
     "data": {
      "text/plain": [
       "'hector'"
      ]
     },
     "execution_count": 121,
     "metadata": {},
     "output_type": "execute_result"
    }
   ],
   "source": [
    "cars.pop()"
   ]
  },
  {
   "cell_type": "code",
   "execution_count": 122,
   "id": "eeecc1de",
   "metadata": {},
   "outputs": [
    {
     "data": {
      "text/plain": [
       "['jetta', '800', 'versa', 'mere abba ki gaddi', 'verna', 's']"
      ]
     },
     "execution_count": 122,
     "metadata": {},
     "output_type": "execute_result"
    }
   ],
   "source": [
    "cars"
   ]
  },
  {
   "cell_type": "code",
   "execution_count": 123,
   "id": "f8d29436",
   "metadata": {},
   "outputs": [
    {
     "data": {
      "text/plain": [
       "'s'"
      ]
     },
     "execution_count": 123,
     "metadata": {},
     "output_type": "execute_result"
    }
   ],
   "source": [
    "cars.pop()"
   ]
  },
  {
   "cell_type": "code",
   "execution_count": 124,
   "id": "97839430",
   "metadata": {},
   "outputs": [
    {
     "data": {
      "text/plain": [
       "['jetta', '800', 'versa', 'mere abba ki gaddi', 'verna']"
      ]
     },
     "execution_count": 124,
     "metadata": {},
     "output_type": "execute_result"
    }
   ],
   "source": [
    "cars"
   ]
  },
  {
   "cell_type": "code",
   "execution_count": 126,
   "id": "477978a0",
   "metadata": {},
   "outputs": [],
   "source": [
    "last_item = cars.pop()"
   ]
  },
  {
   "cell_type": "code",
   "execution_count": 127,
   "id": "54e5e4a9",
   "metadata": {},
   "outputs": [
    {
     "data": {
      "text/plain": [
       "'verna'"
      ]
     },
     "execution_count": 127,
     "metadata": {},
     "output_type": "execute_result"
    }
   ],
   "source": [
    "last_item"
   ]
  },
  {
   "cell_type": "code",
   "execution_count": 128,
   "id": "47a76bf3",
   "metadata": {},
   "outputs": [],
   "source": [
    "# homework: dir, help: implement all other functions of List\n",
    "# (1,2,3,4,)\n",
    "# a[4]"
   ]
  },
  {
   "cell_type": "code",
   "execution_count": 135,
   "id": "82531bde",
   "metadata": {},
   "outputs": [],
   "source": [
    "# a() - func or if defined inside class is called method(bcz it becomes accessible with the instance of the class only)\n",
    "# (1,2,3,4) - tuple\n",
    "# a[] - indexing\n",
    "# [1,2,3,4,] - List"
   ]
  },
  {
   "cell_type": "code",
   "execution_count": 131,
   "id": "cff3bb71",
   "metadata": {},
   "outputs": [],
   "source": [
    "# first check if versa is existing\n",
    "# then get its index\n",
    "# now add your item accordinly (either index - 1 or index + 1) _ insert"
   ]
  },
  {
   "cell_type": "code",
   "execution_count": 147,
   "id": "c351c7ab",
   "metadata": {},
   "outputs": [
    {
     "data": {
      "text/plain": [
       "'\\nif \"versa\" in cars:\\n    a = cars[\"verse\"]\\n    cars.insert(a-1, \"asdasda\")\\n    \\n'"
      ]
     },
     "execution_count": 147,
     "metadata": {},
     "output_type": "execute_result"
    }
   ],
   "source": [
    "# in - membership\n",
    "'''\n",
    "if \"versa\" in cars:\n",
    "    a = cars[\"verse\"]\n",
    "    cars.insert(a-1, \"asdasda\")\n",
    "    \n",
    "'''"
   ]
  },
  {
   "cell_type": "code",
   "execution_count": 136,
   "id": "7ee7cee7",
   "metadata": {},
   "outputs": [],
   "source": [
    "a = (1,2,3,34,4,54)"
   ]
  },
  {
   "cell_type": "code",
   "execution_count": 137,
   "id": "99c67134",
   "metadata": {},
   "outputs": [
    {
     "data": {
      "text/plain": [
       "3"
      ]
     },
     "execution_count": 137,
     "metadata": {},
     "output_type": "execute_result"
    }
   ],
   "source": [
    "a[2]"
   ]
  },
  {
   "cell_type": "code",
   "execution_count": 140,
   "id": "df6bafa4",
   "metadata": {},
   "outputs": [
    {
     "data": {
      "text/plain": [
       "['__add__',\n",
       " '__class__',\n",
       " '__contains__',\n",
       " '__delattr__',\n",
       " '__dir__',\n",
       " '__doc__',\n",
       " '__eq__',\n",
       " '__format__',\n",
       " '__ge__',\n",
       " '__getattribute__',\n",
       " '__getitem__',\n",
       " '__getnewargs__',\n",
       " '__gt__',\n",
       " '__hash__',\n",
       " '__init__',\n",
       " '__init_subclass__',\n",
       " '__iter__',\n",
       " '__le__',\n",
       " '__len__',\n",
       " '__lt__',\n",
       " '__mul__',\n",
       " '__ne__',\n",
       " '__new__',\n",
       " '__reduce__',\n",
       " '__reduce_ex__',\n",
       " '__repr__',\n",
       " '__rmul__',\n",
       " '__setattr__',\n",
       " '__sizeof__',\n",
       " '__str__',\n",
       " '__subclasshook__',\n",
       " 'count',\n",
       " 'index']"
      ]
     },
     "execution_count": 140,
     "metadata": {},
     "output_type": "execute_result"
    }
   ],
   "source": [
    "dir(a)"
   ]
  },
  {
   "cell_type": "code",
   "execution_count": 141,
   "id": "828ca874",
   "metadata": {},
   "outputs": [
    {
     "data": {
      "text/plain": [
       "(1, 2, 3, 34, 4, 54)"
      ]
     },
     "execution_count": 141,
     "metadata": {},
     "output_type": "execute_result"
    }
   ],
   "source": [
    "a"
   ]
  },
  {
   "cell_type": "code",
   "execution_count": 142,
   "id": "32947f10",
   "metadata": {},
   "outputs": [
    {
     "data": {
      "text/plain": [
       "1"
      ]
     },
     "execution_count": 142,
     "metadata": {},
     "output_type": "execute_result"
    }
   ],
   "source": [
    "a.count(1)"
   ]
  },
  {
   "cell_type": "code",
   "execution_count": 144,
   "id": "89243188",
   "metadata": {},
   "outputs": [],
   "source": [
    "a = (1,2,2,2,2,2,1,1,11,3,1,1,1,2)"
   ]
  },
  {
   "cell_type": "code",
   "execution_count": 145,
   "id": "0b19bbfb",
   "metadata": {},
   "outputs": [
    {
     "data": {
      "text/plain": [
       "6"
      ]
     },
     "execution_count": 145,
     "metadata": {},
     "output_type": "execute_result"
    }
   ],
   "source": [
    "a.count(2)"
   ]
  },
  {
   "cell_type": "code",
   "execution_count": 146,
   "id": "ffcbe833",
   "metadata": {},
   "outputs": [
    {
     "data": {
      "text/plain": [
       "0"
      ]
     },
     "execution_count": 146,
     "metadata": {},
     "output_type": "execute_result"
    }
   ],
   "source": [
    "a.index(1)"
   ]
  },
  {
   "cell_type": "code",
   "execution_count": 148,
   "id": "b9d4c5a0",
   "metadata": {},
   "outputs": [
    {
     "data": {
      "text/plain": [
       "(1, 2, 2, 2, 2, 2, 1, 1, 11, 3, 1, 1, 1, 2)"
      ]
     },
     "execution_count": 148,
     "metadata": {},
     "output_type": "execute_result"
    }
   ],
   "source": [
    "a"
   ]
  },
  {
   "cell_type": "code",
   "execution_count": 149,
   "id": "77d675b6",
   "metadata": {},
   "outputs": [],
   "source": [
    "b = [1,2,2,4,3,3,3,43]"
   ]
  },
  {
   "cell_type": "code",
   "execution_count": 150,
   "id": "39be98d7",
   "metadata": {},
   "outputs": [],
   "source": [
    "b[5] = 4"
   ]
  },
  {
   "cell_type": "code",
   "execution_count": 151,
   "id": "eacff0b9",
   "metadata": {},
   "outputs": [
    {
     "data": {
      "text/plain": [
       "[1, 2, 2, 4, 3, 4, 3, 43]"
      ]
     },
     "execution_count": 151,
     "metadata": {},
     "output_type": "execute_result"
    }
   ],
   "source": [
    "b"
   ]
  },
  {
   "cell_type": "code",
   "execution_count": 152,
   "id": "2cebacc1",
   "metadata": {},
   "outputs": [],
   "source": [
    "b[0] = 42"
   ]
  },
  {
   "cell_type": "code",
   "execution_count": 153,
   "id": "20eadafa",
   "metadata": {},
   "outputs": [
    {
     "data": {
      "text/plain": [
       "[42, 2, 2, 4, 3, 4, 3, 43]"
      ]
     },
     "execution_count": 153,
     "metadata": {},
     "output_type": "execute_result"
    }
   ],
   "source": [
    "b"
   ]
  },
  {
   "cell_type": "code",
   "execution_count": 154,
   "id": "13ec436a",
   "metadata": {},
   "outputs": [
    {
     "ename": "TypeError",
     "evalue": "'tuple' object does not support item assignment",
     "output_type": "error",
     "traceback": [
      "\u001b[1;31m---------------------------------------------------------------------------\u001b[0m",
      "\u001b[1;31mTypeError\u001b[0m                                 Traceback (most recent call last)",
      "\u001b[1;32m<ipython-input-154-9a84cd82a4f5>\u001b[0m in \u001b[0;36m<module>\u001b[1;34m\u001b[0m\n\u001b[1;32m----> 1\u001b[1;33m \u001b[0ma\u001b[0m\u001b[1;33m[\u001b[0m\u001b[1;36m2\u001b[0m\u001b[1;33m]\u001b[0m \u001b[1;33m=\u001b[0m \u001b[1;36m54\u001b[0m\u001b[1;33m\u001b[0m\u001b[1;33m\u001b[0m\u001b[0m\n\u001b[0m",
      "\u001b[1;31mTypeError\u001b[0m: 'tuple' object does not support item assignment"
     ]
    }
   ],
   "source": [
    "a[2] = 54"
   ]
  },
  {
   "cell_type": "code",
   "execution_count": 155,
   "id": "eb3fcf11",
   "metadata": {},
   "outputs": [
    {
     "data": {
      "text/plain": [
       "(1, 2, 2, 2, 2, 2, 1, 1, 11, 3, 1, 1, 1, 2)"
      ]
     },
     "execution_count": 155,
     "metadata": {},
     "output_type": "execute_result"
    }
   ],
   "source": [
    "a"
   ]
  },
  {
   "cell_type": "code",
   "execution_count": 156,
   "id": "2d41e56e",
   "metadata": {},
   "outputs": [
    {
     "data": {
      "text/plain": [
       "[1, 2, 2, 2, 2, 2, 1, 1, 11, 3, 1, 1, 1, 2]"
      ]
     },
     "execution_count": 156,
     "metadata": {},
     "output_type": "execute_result"
    }
   ],
   "source": [
    "list(a)"
   ]
  },
  {
   "cell_type": "code",
   "execution_count": 157,
   "id": "4e7ff0a9",
   "metadata": {},
   "outputs": [
    {
     "data": {
      "text/plain": [
       "(1, 2, 2, 2, 2, 2, 1, 1, 11, 3, 1, 1, 1, 2)"
      ]
     },
     "execution_count": 157,
     "metadata": {},
     "output_type": "execute_result"
    }
   ],
   "source": [
    "a"
   ]
  },
  {
   "cell_type": "code",
   "execution_count": 158,
   "id": "af486884",
   "metadata": {},
   "outputs": [
    {
     "data": {
      "text/plain": [
       "[1, 2, 2, 2, 2, 2, 1, 1, 11, 3, 1, 1, 1, 2]"
      ]
     },
     "execution_count": 158,
     "metadata": {},
     "output_type": "execute_result"
    }
   ],
   "source": [
    "list(a)"
   ]
  },
  {
   "cell_type": "code",
   "execution_count": 159,
   "id": "4d188531",
   "metadata": {},
   "outputs": [],
   "source": [
    "b = list(a)"
   ]
  },
  {
   "cell_type": "code",
   "execution_count": 160,
   "id": "8ab62af2",
   "metadata": {},
   "outputs": [
    {
     "data": {
      "text/plain": [
       "[1, 2, 2, 2, 2, 2, 1, 1, 11, 3, 1, 1, 1, 2]"
      ]
     },
     "execution_count": 160,
     "metadata": {},
     "output_type": "execute_result"
    }
   ],
   "source": [
    "b"
   ]
  },
  {
   "cell_type": "code",
   "execution_count": 161,
   "id": "842a60b8",
   "metadata": {},
   "outputs": [],
   "source": [
    "b[2]= 5453"
   ]
  },
  {
   "cell_type": "code",
   "execution_count": 162,
   "id": "67997cc2",
   "metadata": {},
   "outputs": [],
   "source": [
    "a = tuple(b)"
   ]
  },
  {
   "cell_type": "code",
   "execution_count": 163,
   "id": "97e03023",
   "metadata": {},
   "outputs": [
    {
     "data": {
      "text/plain": [
       "(1, 2, 5453, 2, 2, 2, 1, 1, 11, 3, 1, 1, 1, 2)"
      ]
     },
     "execution_count": 163,
     "metadata": {},
     "output_type": "execute_result"
    }
   ],
   "source": [
    "a"
   ]
  },
  {
   "cell_type": "code",
   "execution_count": 164,
   "id": "2e7c45f2",
   "metadata": {},
   "outputs": [
    {
     "data": {
      "text/plain": [
       "'\\n> convert tuple to list - list()\\n> assign or alter \\n> convert back to tuple - tuple()\\n\\n'"
      ]
     },
     "execution_count": 164,
     "metadata": {},
     "output_type": "execute_result"
    }
   ],
   "source": [
    "'''\n",
    "> convert tuple to list - list()\n",
    "> assign or alter \n",
    "> convert back to tuple - tuple()\n",
    "\n",
    "'''"
   ]
  },
  {
   "cell_type": "code",
   "execution_count": 165,
   "id": "e6940f70",
   "metadata": {},
   "outputs": [
    {
     "name": "stdout",
     "output_type": "stream",
     "text": [
      "jetta\n",
      "800\n",
      "versa\n",
      "mere abba ki gaddi\n"
     ]
    }
   ],
   "source": [
    "for i in cars:\n",
    "    print(i)"
   ]
  },
  {
   "cell_type": "code",
   "execution_count": 166,
   "id": "3e036d4b",
   "metadata": {},
   "outputs": [],
   "source": [
    "# heterogenous collection  types: int, string, float"
   ]
  },
  {
   "cell_type": "code",
   "execution_count": 167,
   "id": "c1d791ae",
   "metadata": {},
   "outputs": [],
   "source": [
    "f = [\"12\", \"232.3\"]"
   ]
  },
  {
   "cell_type": "code",
   "execution_count": 168,
   "id": "3dacd279",
   "metadata": {},
   "outputs": [
    {
     "data": {
      "text/plain": [
       "['12', '232.3']"
      ]
     },
     "execution_count": 168,
     "metadata": {},
     "output_type": "execute_result"
    }
   ],
   "source": [
    "f"
   ]
  },
  {
   "cell_type": "code",
   "execution_count": 169,
   "id": "eae14044",
   "metadata": {},
   "outputs": [
    {
     "data": {
      "text/plain": [
       "list"
      ]
     },
     "execution_count": 169,
     "metadata": {},
     "output_type": "execute_result"
    }
   ],
   "source": [
    "type(f)"
   ]
  },
  {
   "cell_type": "markdown",
   "id": "55b87288",
   "metadata": {},
   "source": [
    "#### set and dictionary"
   ]
  },
  {
   "cell_type": "code",
   "execution_count": 170,
   "id": "1eef62c3",
   "metadata": {},
   "outputs": [],
   "source": [
    "# unordered collection types - cannot be indexed\n",
    "# unique items\n",
    "# {}"
   ]
  },
  {
   "cell_type": "code",
   "execution_count": 171,
   "id": "c996db65",
   "metadata": {},
   "outputs": [],
   "source": [
    "s = {1,2,3,4,5,6,}"
   ]
  },
  {
   "cell_type": "code",
   "execution_count": 172,
   "id": "79521434",
   "metadata": {},
   "outputs": [
    {
     "data": {
      "text/plain": [
       "{1, 2, 3, 4, 5, 6}"
      ]
     },
     "execution_count": 172,
     "metadata": {},
     "output_type": "execute_result"
    }
   ],
   "source": [
    "s"
   ]
  },
  {
   "cell_type": "code",
   "execution_count": 173,
   "id": "e78aa041",
   "metadata": {},
   "outputs": [
    {
     "data": {
      "text/plain": [
       "set"
      ]
     },
     "execution_count": 173,
     "metadata": {},
     "output_type": "execute_result"
    }
   ],
   "source": [
    "type(s)"
   ]
  },
  {
   "cell_type": "code",
   "execution_count": 174,
   "id": "049d2c06",
   "metadata": {},
   "outputs": [],
   "source": [
    "s = {1,1,1,2,3,3,3,3,}"
   ]
  },
  {
   "cell_type": "code",
   "execution_count": 175,
   "id": "cc736445",
   "metadata": {},
   "outputs": [
    {
     "data": {
      "text/plain": [
       "{1, 2, 3}"
      ]
     },
     "execution_count": 175,
     "metadata": {},
     "output_type": "execute_result"
    }
   ],
   "source": [
    "s"
   ]
  },
  {
   "cell_type": "code",
   "execution_count": 176,
   "id": "61cfe9a5",
   "metadata": {},
   "outputs": [
    {
     "ename": "TypeError",
     "evalue": "'set' object does not support item assignment",
     "output_type": "error",
     "traceback": [
      "\u001b[1;31m---------------------------------------------------------------------------\u001b[0m",
      "\u001b[1;31mTypeError\u001b[0m                                 Traceback (most recent call last)",
      "\u001b[1;32m<ipython-input-176-a5b7b516afd9>\u001b[0m in \u001b[0;36m<module>\u001b[1;34m\u001b[0m\n\u001b[1;32m----> 1\u001b[1;33m \u001b[0ms\u001b[0m\u001b[1;33m[\u001b[0m\u001b[1;36m32\u001b[0m\u001b[1;33m]\u001b[0m\u001b[1;33m=\u001b[0m \u001b[1;36m34\u001b[0m\u001b[1;33m\u001b[0m\u001b[1;33m\u001b[0m\u001b[0m\n\u001b[0m",
      "\u001b[1;31mTypeError\u001b[0m: 'set' object does not support item assignment"
     ]
    }
   ],
   "source": [
    "s[32]= 34"
   ]
  },
  {
   "cell_type": "code",
   "execution_count": 177,
   "id": "2edea71c",
   "metadata": {},
   "outputs": [
    {
     "data": {
      "text/plain": [
       "['__and__',\n",
       " '__class__',\n",
       " '__contains__',\n",
       " '__delattr__',\n",
       " '__dir__',\n",
       " '__doc__',\n",
       " '__eq__',\n",
       " '__format__',\n",
       " '__ge__',\n",
       " '__getattribute__',\n",
       " '__gt__',\n",
       " '__hash__',\n",
       " '__iand__',\n",
       " '__init__',\n",
       " '__init_subclass__',\n",
       " '__ior__',\n",
       " '__isub__',\n",
       " '__iter__',\n",
       " '__ixor__',\n",
       " '__le__',\n",
       " '__len__',\n",
       " '__lt__',\n",
       " '__ne__',\n",
       " '__new__',\n",
       " '__or__',\n",
       " '__rand__',\n",
       " '__reduce__',\n",
       " '__reduce_ex__',\n",
       " '__repr__',\n",
       " '__ror__',\n",
       " '__rsub__',\n",
       " '__rxor__',\n",
       " '__setattr__',\n",
       " '__sizeof__',\n",
       " '__str__',\n",
       " '__sub__',\n",
       " '__subclasshook__',\n",
       " '__xor__',\n",
       " 'add',\n",
       " 'clear',\n",
       " 'copy',\n",
       " 'difference',\n",
       " 'difference_update',\n",
       " 'discard',\n",
       " 'intersection',\n",
       " 'intersection_update',\n",
       " 'isdisjoint',\n",
       " 'issubset',\n",
       " 'issuperset',\n",
       " 'pop',\n",
       " 'remove',\n",
       " 'symmetric_difference',\n",
       " 'symmetric_difference_update',\n",
       " 'union',\n",
       " 'update']"
      ]
     },
     "execution_count": 177,
     "metadata": {},
     "output_type": "execute_result"
    }
   ],
   "source": [
    "dir(s)"
   ]
  },
  {
   "cell_type": "code",
   "execution_count": 178,
   "id": "6acf2266",
   "metadata": {},
   "outputs": [],
   "source": [
    "s.add(23)"
   ]
  },
  {
   "cell_type": "code",
   "execution_count": 179,
   "id": "54abf6b6",
   "metadata": {},
   "outputs": [
    {
     "data": {
      "text/plain": [
       "{1, 2, 3, 23}"
      ]
     },
     "execution_count": 179,
     "metadata": {},
     "output_type": "execute_result"
    }
   ],
   "source": [
    "s"
   ]
  },
  {
   "cell_type": "code",
   "execution_count": 180,
   "id": "84bfa46e",
   "metadata": {},
   "outputs": [],
   "source": [
    "s.add(1)"
   ]
  },
  {
   "cell_type": "code",
   "execution_count": 181,
   "id": "f05a5cce",
   "metadata": {},
   "outputs": [
    {
     "data": {
      "text/plain": [
       "{1, 2, 3, 23}"
      ]
     },
     "execution_count": 181,
     "metadata": {},
     "output_type": "execute_result"
    }
   ],
   "source": [
    "s"
   ]
  },
  {
   "cell_type": "code",
   "execution_count": 182,
   "id": "b4e6e1cd",
   "metadata": {},
   "outputs": [],
   "source": [
    "s.clear()"
   ]
  },
  {
   "cell_type": "code",
   "execution_count": 183,
   "id": "da4bb5d0",
   "metadata": {},
   "outputs": [
    {
     "data": {
      "text/plain": [
       "set()"
      ]
     },
     "execution_count": 183,
     "metadata": {},
     "output_type": "execute_result"
    }
   ],
   "source": [
    "s"
   ]
  },
  {
   "cell_type": "code",
   "execution_count": 184,
   "id": "603f6245",
   "metadata": {},
   "outputs": [],
   "source": [
    "# deepcopy vs shallow copy"
   ]
  },
  {
   "cell_type": "code",
   "execution_count": 185,
   "id": "f4a0ab08",
   "metadata": {},
   "outputs": [],
   "source": [
    "router1 = {\"192.1\", \"111.232\", \"394.22\"}\n",
    "\n",
    "router2 = {\"192.1\", \"11.2\", \"111.232\"}"
   ]
  },
  {
   "cell_type": "code",
   "execution_count": 186,
   "id": "52e99fd6",
   "metadata": {},
   "outputs": [
    {
     "data": {
      "text/plain": [
       "{'394.22'}"
      ]
     },
     "execution_count": 186,
     "metadata": {},
     "output_type": "execute_result"
    }
   ],
   "source": [
    "router1 - router2"
   ]
  },
  {
   "cell_type": "code",
   "execution_count": 187,
   "id": "f707931c",
   "metadata": {},
   "outputs": [
    {
     "data": {
      "text/plain": [
       "{'111.232', '192.1'}"
      ]
     },
     "execution_count": 187,
     "metadata": {},
     "output_type": "execute_result"
    }
   ],
   "source": [
    "router1.intersection(router2)"
   ]
  },
  {
   "cell_type": "code",
   "execution_count": 188,
   "id": "50eab075",
   "metadata": {},
   "outputs": [
    {
     "data": {
      "text/plain": [
       "{'11.2', '111.232', '192.1', '394.22'}"
      ]
     },
     "execution_count": 188,
     "metadata": {},
     "output_type": "execute_result"
    }
   ],
   "source": [
    "router1.union(router2)"
   ]
  },
  {
   "cell_type": "code",
   "execution_count": 189,
   "id": "7c1ce806",
   "metadata": {},
   "outputs": [],
   "source": [
    "# homework: please try other functions as well using dir and help"
   ]
  },
  {
   "cell_type": "code",
   "execution_count": 191,
   "id": "a57aa76f",
   "metadata": {},
   "outputs": [],
   "source": [
    "# dictionary: key, value"
   ]
  },
  {
   "cell_type": "code",
   "execution_count": 194,
   "id": "75400bef",
   "metadata": {},
   "outputs": [],
   "source": [
    "d = {\"name\": \"shariq\", \"address\":\"brno\", \"dob\": \"600 AD\"}"
   ]
  },
  {
   "cell_type": "code",
   "execution_count": 195,
   "id": "f460fbe3",
   "metadata": {},
   "outputs": [
    {
     "data": {
      "text/plain": [
       "{'name': 'shariq', 'address': 'brno', 'dob': '600 AD'}"
      ]
     },
     "execution_count": 195,
     "metadata": {},
     "output_type": "execute_result"
    }
   ],
   "source": [
    "d"
   ]
  },
  {
   "cell_type": "code",
   "execution_count": 201,
   "id": "56432106",
   "metadata": {},
   "outputs": [
    {
     "data": {
      "text/plain": [
       "'shariq'"
      ]
     },
     "execution_count": 201,
     "metadata": {},
     "output_type": "execute_result"
    }
   ],
   "source": [
    "d[\"name\"]"
   ]
  },
  {
   "cell_type": "code",
   "execution_count": 202,
   "id": "dc23948a",
   "metadata": {},
   "outputs": [
    {
     "data": {
      "text/plain": [
       "'brno'"
      ]
     },
     "execution_count": 202,
     "metadata": {},
     "output_type": "execute_result"
    }
   ],
   "source": [
    "d[\"address\"]"
   ]
  },
  {
   "cell_type": "code",
   "execution_count": 203,
   "id": "a221665c",
   "metadata": {},
   "outputs": [
    {
     "data": {
      "text/plain": [
       "'600 AD'"
      ]
     },
     "execution_count": 203,
     "metadata": {},
     "output_type": "execute_result"
    }
   ],
   "source": [
    "d[\"dob\"]"
   ]
  },
  {
   "cell_type": "code",
   "execution_count": 204,
   "id": "84a069ee",
   "metadata": {},
   "outputs": [],
   "source": [
    "d = {\"name\": [\"shariq\", \"manohar\", \"priti\"], \"address\":\"brno\", \"dob\": \"600 AD\"}"
   ]
  },
  {
   "cell_type": "code",
   "execution_count": 205,
   "id": "6afe8099",
   "metadata": {},
   "outputs": [
    {
     "data": {
      "text/plain": [
       "['shariq', 'manohar', 'priti']"
      ]
     },
     "execution_count": 205,
     "metadata": {},
     "output_type": "execute_result"
    }
   ],
   "source": [
    "d[\"name\"]"
   ]
  },
  {
   "cell_type": "code",
   "execution_count": 206,
   "id": "c4772f82",
   "metadata": {},
   "outputs": [
    {
     "data": {
      "text/plain": [
       "'shariq'"
      ]
     },
     "execution_count": 206,
     "metadata": {},
     "output_type": "execute_result"
    }
   ],
   "source": [
    "d[\"name\"][0]"
   ]
  },
  {
   "cell_type": "code",
   "execution_count": 207,
   "id": "14d8290c",
   "metadata": {},
   "outputs": [],
   "source": [
    "d[\"name\"][0] = \"abcd\""
   ]
  },
  {
   "cell_type": "code",
   "execution_count": 208,
   "id": "1d0a5737",
   "metadata": {},
   "outputs": [
    {
     "data": {
      "text/plain": [
       "{'name': ['abcd', 'manohar', 'priti'], 'address': 'brno', 'dob': '600 AD'}"
      ]
     },
     "execution_count": 208,
     "metadata": {},
     "output_type": "execute_result"
    }
   ],
   "source": [
    "d"
   ]
  },
  {
   "cell_type": "code",
   "execution_count": 210,
   "id": "021da02b",
   "metadata": {},
   "outputs": [
    {
     "ename": "TypeError",
     "evalue": "unhashable type: 'list'",
     "output_type": "error",
     "traceback": [
      "\u001b[1;31m---------------------------------------------------------------------------\u001b[0m",
      "\u001b[1;31mTypeError\u001b[0m                                 Traceback (most recent call last)",
      "\u001b[1;32m<ipython-input-210-aab37599cf3c>\u001b[0m in \u001b[0;36m<module>\u001b[1;34m\u001b[0m\n\u001b[0;32m      1\u001b[0m \u001b[1;31m# no collection type allowed in key\u001b[0m\u001b[1;33m\u001b[0m\u001b[1;33m\u001b[0m\u001b[1;33m\u001b[0m\u001b[0m\n\u001b[1;32m----> 2\u001b[1;33m \u001b[0md\u001b[0m \u001b[1;33m=\u001b[0m \u001b[1;33m{\u001b[0m\u001b[1;33m[\u001b[0m\u001b[1;36m2\u001b[0m\u001b[1;33m]\u001b[0m\u001b[1;33m:\u001b[0m \u001b[1;33m[\u001b[0m\u001b[1;34m\"shariq\"\u001b[0m\u001b[1;33m,\u001b[0m \u001b[1;34m\"manohar\"\u001b[0m\u001b[1;33m,\u001b[0m \u001b[1;34m\"priti\"\u001b[0m\u001b[1;33m]\u001b[0m\u001b[1;33m,\u001b[0m \u001b[1;34m\"address\"\u001b[0m\u001b[1;33m:\u001b[0m\u001b[1;34m\"brno\"\u001b[0m\u001b[1;33m,\u001b[0m \u001b[1;34m\"dob\"\u001b[0m\u001b[1;33m:\u001b[0m \u001b[1;34m\"600 AD\"\u001b[0m\u001b[1;33m}\u001b[0m\u001b[1;33m\u001b[0m\u001b[1;33m\u001b[0m\u001b[0m\n\u001b[0m",
      "\u001b[1;31mTypeError\u001b[0m: unhashable type: 'list'"
     ]
    }
   ],
   "source": [
    "# no collection type allowed in key\n",
    "d = {[2]: [\"shariq\", \"manohar\", \"priti\"], \"address\":\"brno\", \"dob\": \"600 AD\"}"
   ]
  },
  {
   "cell_type": "code",
   "execution_count": 211,
   "id": "0cc57524",
   "metadata": {},
   "outputs": [],
   "source": [
    "d = {\"name\": [\"shariq\", \"manohar\", \"priti\"], \"address\":\"brno\", \"dob\": \"600 AD\"}"
   ]
  },
  {
   "cell_type": "code",
   "execution_count": 212,
   "id": "cb372819",
   "metadata": {},
   "outputs": [
    {
     "data": {
      "text/plain": [
       "dict_keys(['name', 'address', 'dob'])"
      ]
     },
     "execution_count": 212,
     "metadata": {},
     "output_type": "execute_result"
    }
   ],
   "source": [
    "d.keys()"
   ]
  },
  {
   "cell_type": "code",
   "execution_count": 213,
   "id": "61884a0b",
   "metadata": {},
   "outputs": [
    {
     "data": {
      "text/plain": [
       "dict_values([['shariq', 'manohar', 'priti'], 'brno', '600 AD'])"
      ]
     },
     "execution_count": 213,
     "metadata": {},
     "output_type": "execute_result"
    }
   ],
   "source": [
    "d.values()"
   ]
  },
  {
   "cell_type": "code",
   "execution_count": 214,
   "id": "a80ee7ac",
   "metadata": {},
   "outputs": [
    {
     "data": {
      "text/plain": [
       "dict_items([('name', ['shariq', 'manohar', 'priti']), ('address', 'brno'), ('dob', '600 AD')])"
      ]
     },
     "execution_count": 214,
     "metadata": {},
     "output_type": "execute_result"
    }
   ],
   "source": [
    "d.items()"
   ]
  },
  {
   "cell_type": "code",
   "execution_count": 215,
   "id": "812b1c21",
   "metadata": {},
   "outputs": [
    {
     "data": {
      "text/plain": [
       "['__class__',\n",
       " '__contains__',\n",
       " '__delattr__',\n",
       " '__delitem__',\n",
       " '__dir__',\n",
       " '__doc__',\n",
       " '__eq__',\n",
       " '__format__',\n",
       " '__ge__',\n",
       " '__getattribute__',\n",
       " '__getitem__',\n",
       " '__gt__',\n",
       " '__hash__',\n",
       " '__init__',\n",
       " '__init_subclass__',\n",
       " '__iter__',\n",
       " '__le__',\n",
       " '__len__',\n",
       " '__lt__',\n",
       " '__ne__',\n",
       " '__new__',\n",
       " '__reduce__',\n",
       " '__reduce_ex__',\n",
       " '__repr__',\n",
       " '__reversed__',\n",
       " '__setattr__',\n",
       " '__setitem__',\n",
       " '__sizeof__',\n",
       " '__str__',\n",
       " '__subclasshook__',\n",
       " 'clear',\n",
       " 'copy',\n",
       " 'fromkeys',\n",
       " 'get',\n",
       " 'items',\n",
       " 'keys',\n",
       " 'pop',\n",
       " 'popitem',\n",
       " 'setdefault',\n",
       " 'update',\n",
       " 'values']"
      ]
     },
     "execution_count": 215,
     "metadata": {},
     "output_type": "execute_result"
    }
   ],
   "source": [
    "dir(d)"
   ]
  },
  {
   "cell_type": "code",
   "execution_count": 217,
   "id": "4a654cc8",
   "metadata": {},
   "outputs": [
    {
     "data": {
      "text/plain": [
       "['shariq', 'manohar', 'priti']"
      ]
     },
     "execution_count": 217,
     "metadata": {},
     "output_type": "execute_result"
    }
   ],
   "source": [
    "d.pop(\"name\")"
   ]
  },
  {
   "cell_type": "code",
   "execution_count": 218,
   "id": "be869d69",
   "metadata": {},
   "outputs": [
    {
     "data": {
      "text/plain": [
       "{'address': 'brno', 'dob': '600 AD'}"
      ]
     },
     "execution_count": 218,
     "metadata": {},
     "output_type": "execute_result"
    }
   ],
   "source": [
    "d"
   ]
  },
  {
   "cell_type": "code",
   "execution_count": 219,
   "id": "044d9f54",
   "metadata": {},
   "outputs": [],
   "source": [
    "# please use dir na help to perform or test other functions inside dictionary"
   ]
  },
  {
   "cell_type": "code",
   "execution_count": 220,
   "id": "a0e6ae34",
   "metadata": {},
   "outputs": [],
   "source": [
    "# maps; MapReduce\n",
    "# maps, reduce and filter\n",
    "# map(func,[1,2,2,3,34])"
   ]
  },
  {
   "cell_type": "code",
   "execution_count": 221,
   "id": "bdda2abd",
   "metadata": {},
   "outputs": [
    {
     "data": {
      "text/plain": [
       "['__class__',\n",
       " '__delattr__',\n",
       " '__dir__',\n",
       " '__doc__',\n",
       " '__eq__',\n",
       " '__format__',\n",
       " '__ge__',\n",
       " '__getattribute__',\n",
       " '__gt__',\n",
       " '__hash__',\n",
       " '__init__',\n",
       " '__init_subclass__',\n",
       " '__iter__',\n",
       " '__le__',\n",
       " '__lt__',\n",
       " '__ne__',\n",
       " '__new__',\n",
       " '__next__',\n",
       " '__reduce__',\n",
       " '__reduce_ex__',\n",
       " '__repr__',\n",
       " '__setattr__',\n",
       " '__sizeof__',\n",
       " '__str__',\n",
       " '__subclasshook__']"
      ]
     },
     "execution_count": 221,
     "metadata": {},
     "output_type": "execute_result"
    }
   ],
   "source": [
    "dir(map)"
   ]
  },
  {
   "cell_type": "code",
   "execution_count": 222,
   "id": "f0a3d8f5",
   "metadata": {},
   "outputs": [
    {
     "name": "stdout",
     "output_type": "stream",
     "text": [
      "Help on class map in module builtins:\n",
      "\n",
      "class map(object)\n",
      " |  map(func, *iterables) --> map object\n",
      " |  \n",
      " |  Make an iterator that computes the function using arguments from\n",
      " |  each of the iterables.  Stops when the shortest iterable is exhausted.\n",
      " |  \n",
      " |  Methods defined here:\n",
      " |  \n",
      " |  __getattribute__(self, name, /)\n",
      " |      Return getattr(self, name).\n",
      " |  \n",
      " |  __iter__(self, /)\n",
      " |      Implement iter(self).\n",
      " |  \n",
      " |  __next__(self, /)\n",
      " |      Implement next(self).\n",
      " |  \n",
      " |  __reduce__(...)\n",
      " |      Return state information for pickling.\n",
      " |  \n",
      " |  ----------------------------------------------------------------------\n",
      " |  Static methods defined here:\n",
      " |  \n",
      " |  __new__(*args, **kwargs) from builtins.type\n",
      " |      Create and return a new object.  See help(type) for accurate signature.\n",
      "\n"
     ]
    }
   ],
   "source": [
    "help(map)"
   ]
  },
  {
   "cell_type": "code",
   "execution_count": 228,
   "id": "c3c43994",
   "metadata": {},
   "outputs": [],
   "source": [
    "f = map(lambda x: x + 1,[12,3,4,4,5] )"
   ]
  },
  {
   "cell_type": "code",
   "execution_count": 225,
   "id": "499fd36c",
   "metadata": {},
   "outputs": [
    {
     "data": {
      "text/plain": [
       "<map at 0x1ece4557880>"
      ]
     },
     "execution_count": 225,
     "metadata": {},
     "output_type": "execute_result"
    }
   ],
   "source": [
    "f"
   ]
  },
  {
   "cell_type": "code",
   "execution_count": 226,
   "id": "62b9ce02",
   "metadata": {},
   "outputs": [
    {
     "data": {
      "text/plain": [
       "[13, 4, 5, 5, 6]"
      ]
     },
     "execution_count": 226,
     "metadata": {},
     "output_type": "execute_result"
    }
   ],
   "source": [
    "list(f)"
   ]
  },
  {
   "cell_type": "code",
   "execution_count": 229,
   "id": "f8996137",
   "metadata": {},
   "outputs": [
    {
     "data": {
      "text/plain": [
       "(13, 4, 5, 5, 6)"
      ]
     },
     "execution_count": 229,
     "metadata": {},
     "output_type": "execute_result"
    }
   ],
   "source": [
    "tuple(f)"
   ]
  },
  {
   "cell_type": "code",
   "execution_count": 230,
   "id": "cf699f92",
   "metadata": {},
   "outputs": [],
   "source": [
    "f = filter(lambda x: x > 10,[12,3,4,4,5] )"
   ]
  },
  {
   "cell_type": "code",
   "execution_count": 231,
   "id": "4d514cf6",
   "metadata": {},
   "outputs": [
    {
     "data": {
      "text/plain": [
       "<filter at 0x1ece45575e0>"
      ]
     },
     "execution_count": 231,
     "metadata": {},
     "output_type": "execute_result"
    }
   ],
   "source": [
    "f"
   ]
  },
  {
   "cell_type": "code",
   "execution_count": 232,
   "id": "2494e94f",
   "metadata": {},
   "outputs": [
    {
     "data": {
      "text/plain": [
       "[12]"
      ]
     },
     "execution_count": 232,
     "metadata": {},
     "output_type": "execute_result"
    }
   ],
   "source": [
    "list(f)"
   ]
  },
  {
   "cell_type": "code",
   "execution_count": 233,
   "id": "7da07175",
   "metadata": {},
   "outputs": [],
   "source": [
    "A = 3"
   ]
  },
  {
   "cell_type": "code",
   "execution_count": 234,
   "id": "c9535169",
   "metadata": {},
   "outputs": [],
   "source": [
    "A = 4"
   ]
  },
  {
   "cell_type": "code",
   "execution_count": 235,
   "id": "8e511fcb",
   "metadata": {},
   "outputs": [
    {
     "ename": "SyntaxError",
     "evalue": "unexpected EOF while parsing (<ipython-input-235-afc3d7392dc6>, line 1)",
     "output_type": "error",
     "traceback": [
      "\u001b[1;36m  File \u001b[1;32m\"<ipython-input-235-afc3d7392dc6>\"\u001b[1;36m, line \u001b[1;32m1\u001b[0m\n\u001b[1;33m    if username == uname & password == passw: # use only when you want two conditions to be true to perform code inside condition or loop\u001b[0m\n\u001b[1;37m                                                                                                                                         ^\u001b[0m\n\u001b[1;31mSyntaxError\u001b[0m\u001b[1;31m:\u001b[0m unexpected EOF while parsing\n"
     ]
    }
   ],
   "source": [
    "if username == uname & password == passw: # use only when you want two conditions to be true to perform code inside condition or loop"
   ]
  },
  {
   "cell_type": "code",
   "execution_count": null,
   "id": "595f97cf",
   "metadata": {},
   "outputs": [],
   "source": [
    "if username == uname | password == passw: # or operator"
   ]
  }
 ],
 "metadata": {
  "kernelspec": {
   "display_name": "Python 3",
   "language": "python",
   "name": "python3"
  },
  "language_info": {
   "codemirror_mode": {
    "name": "ipython",
    "version": 3
   },
   "file_extension": ".py",
   "mimetype": "text/x-python",
   "name": "python",
   "nbconvert_exporter": "python",
   "pygments_lexer": "ipython3",
   "version": "3.8.8"
  }
 },
 "nbformat": 4,
 "nbformat_minor": 5
}
