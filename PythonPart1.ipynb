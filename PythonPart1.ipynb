{
 "cells": [
  {
   "cell_type": "code",
   "execution_count": 21,
   "id": "f4d30f5c",
   "metadata": {},
   "outputs": [],
   "source": [
    "b = 3"
   ]
  },
  {
   "cell_type": "code",
   "execution_count": 2,
   "id": "6d04f21e",
   "metadata": {},
   "outputs": [],
   "source": [
    "a = 5"
   ]
  },
  {
   "cell_type": "code",
   "execution_count": 5,
   "id": "18547981",
   "metadata": {},
   "outputs": [
    {
     "data": {
      "text/plain": [
       "8"
      ]
     },
     "execution_count": 5,
     "metadata": {},
     "output_type": "execute_result"
    }
   ],
   "source": [
    "a + b"
   ]
  },
  {
   "cell_type": "code",
   "execution_count": 6,
   "id": "f4f825bb",
   "metadata": {},
   "outputs": [],
   "source": [
    "c = a + b"
   ]
  },
  {
   "cell_type": "code",
   "execution_count": 7,
   "id": "c9e21ffd",
   "metadata": {},
   "outputs": [
    {
     "data": {
      "text/plain": [
       "8"
      ]
     },
     "execution_count": 7,
     "metadata": {},
     "output_type": "execute_result"
    }
   ],
   "source": [
    "c"
   ]
  },
  {
   "cell_type": "code",
   "execution_count": 8,
   "id": "3ece0225",
   "metadata": {},
   "outputs": [],
   "source": [
    "# sub, mul, divi"
   ]
  },
  {
   "cell_type": "code",
   "execution_count": 9,
   "id": "f372c698",
   "metadata": {},
   "outputs": [],
   "source": [
    "c = a - b"
   ]
  },
  {
   "cell_type": "code",
   "execution_count": 10,
   "id": "af9d8e84",
   "metadata": {},
   "outputs": [
    {
     "data": {
      "text/plain": [
       "2"
      ]
     },
     "execution_count": 10,
     "metadata": {},
     "output_type": "execute_result"
    }
   ],
   "source": [
    "c"
   ]
  },
  {
   "cell_type": "code",
   "execution_count": 11,
   "id": "e1977be9",
   "metadata": {},
   "outputs": [],
   "source": [
    "c = a*b"
   ]
  },
  {
   "cell_type": "code",
   "execution_count": 12,
   "id": "6b9d66cf",
   "metadata": {},
   "outputs": [
    {
     "data": {
      "text/plain": [
       "15"
      ]
     },
     "execution_count": 12,
     "metadata": {},
     "output_type": "execute_result"
    }
   ],
   "source": [
    "c"
   ]
  },
  {
   "cell_type": "code",
   "execution_count": 13,
   "id": "7002e715",
   "metadata": {},
   "outputs": [],
   "source": [
    "c = a / b"
   ]
  },
  {
   "cell_type": "code",
   "execution_count": 14,
   "id": "1ebf60be",
   "metadata": {},
   "outputs": [
    {
     "data": {
      "text/plain": [
       "1.6666666666666667"
      ]
     },
     "execution_count": 14,
     "metadata": {},
     "output_type": "execute_result"
    }
   ],
   "source": [
    "c"
   ]
  },
  {
   "cell_type": "code",
   "execution_count": 15,
   "id": "22c7bd3d",
   "metadata": {},
   "outputs": [],
   "source": [
    "# // : integer / non decimal divison ans\n",
    "c = a // b"
   ]
  },
  {
   "cell_type": "code",
   "execution_count": 16,
   "id": "abe2f119",
   "metadata": {},
   "outputs": [
    {
     "data": {
      "text/plain": [
       "1"
      ]
     },
     "execution_count": 16,
     "metadata": {},
     "output_type": "execute_result"
    }
   ],
   "source": [
    "c"
   ]
  },
  {
   "cell_type": "code",
   "execution_count": 19,
   "id": "15c8b720",
   "metadata": {},
   "outputs": [],
   "source": [
    "# pow : **\n",
    "c = a**b\n"
   ]
  },
  {
   "cell_type": "code",
   "execution_count": 18,
   "id": "274cef30",
   "metadata": {},
   "outputs": [
    {
     "data": {
      "text/plain": [
       "125"
      ]
     },
     "execution_count": 18,
     "metadata": {},
     "output_type": "execute_result"
    }
   ],
   "source": [
    "c"
   ]
  },
  {
   "cell_type": "code",
   "execution_count": 22,
   "id": "429f2368",
   "metadata": {},
   "outputs": [
    {
     "data": {
      "text/plain": [
       "'\\n1. Simple\\n2. Meaningful\\n3. Avoid variables starting with number (1var)\\n4. spaced variable names\\n\\n\\n'"
      ]
     },
     "execution_count": 22,
     "metadata": {},
     "output_type": "execute_result"
    }
   ],
   "source": [
    "# = assignment \n",
    "\n",
    "# General rules of naming variable\n",
    "'''\n",
    "1. Simple\n",
    "2. Meaningful\n",
    "3. Avoid variables starting with number (1var)\n",
    "4. spaced variable names\n",
    "\n",
    "\n",
    "'''"
   ]
  },
  {
   "cell_type": "code",
   "execution_count": 23,
   "id": "9a840cb9",
   "metadata": {},
   "outputs": [],
   "source": [
    "a = 4"
   ]
  },
  {
   "cell_type": "code",
   "execution_count": 24,
   "id": "053ee34c",
   "metadata": {},
   "outputs": [],
   "source": [
    "alphabet = 3\n"
   ]
  },
  {
   "cell_type": "code",
   "execution_count": 25,
   "id": "c058008e",
   "metadata": {},
   "outputs": [],
   "source": [
    "camelCase = 4"
   ]
  },
  {
   "cell_type": "code",
   "execution_count": 26,
   "id": "c40f1800",
   "metadata": {},
   "outputs": [],
   "source": [
    "spaced_variable = 5"
   ]
  },
  {
   "cell_type": "code",
   "execution_count": 27,
   "id": "524e590b",
   "metadata": {},
   "outputs": [],
   "source": [
    "a = 4\n",
    "a_ = 5"
   ]
  },
  {
   "cell_type": "code",
   "execution_count": 29,
   "id": "5ab6ab0d",
   "metadata": {},
   "outputs": [],
   "source": [
    "multiply = 3*2"
   ]
  },
  {
   "cell_type": "code",
   "execution_count": 30,
   "id": "5ac67a39",
   "metadata": {},
   "outputs": [],
   "source": [
    "substract = 3*2"
   ]
  },
  {
   "cell_type": "markdown",
   "id": "8c17d362",
   "metadata": {},
   "source": [
    "### Data types"
   ]
  },
  {
   "cell_type": "code",
   "execution_count": 31,
   "id": "e4dd1bc1",
   "metadata": {},
   "outputs": [],
   "source": [
    "# integer, int\n",
    "a = 3\n",
    "b = 12323\n",
    "c = 0"
   ]
  },
  {
   "cell_type": "code",
   "execution_count": 32,
   "id": "1e289454",
   "metadata": {},
   "outputs": [
    {
     "data": {
      "text/plain": [
       "int"
      ]
     },
     "execution_count": 32,
     "metadata": {},
     "output_type": "execute_result"
    }
   ],
   "source": [
    "# any name / variable turning green, red alert = its an reserved keyword\n",
    "type(a)"
   ]
  },
  {
   "cell_type": "code",
   "execution_count": 33,
   "id": "444fc799",
   "metadata": {},
   "outputs": [
    {
     "data": {
      "text/plain": [
       "int"
      ]
     },
     "execution_count": 33,
     "metadata": {},
     "output_type": "execute_result"
    }
   ],
   "source": [
    "type(b)"
   ]
  },
  {
   "cell_type": "code",
   "execution_count": 34,
   "id": "d9c33c42",
   "metadata": {},
   "outputs": [
    {
     "data": {
      "text/plain": [
       "int"
      ]
     },
     "execution_count": 34,
     "metadata": {},
     "output_type": "execute_result"
    }
   ],
   "source": [
    "type(c)"
   ]
  },
  {
   "cell_type": "code",
   "execution_count": 36,
   "id": "c5031821",
   "metadata": {},
   "outputs": [],
   "source": [
    "# decimal, float\n",
    "\n",
    "a = 1.\n",
    "b = 1.0\n",
    "c = 0.1\n",
    "d = 0.0"
   ]
  },
  {
   "cell_type": "code",
   "execution_count": 37,
   "id": "e55cc171",
   "metadata": {},
   "outputs": [
    {
     "data": {
      "text/plain": [
       "float"
      ]
     },
     "execution_count": 37,
     "metadata": {},
     "output_type": "execute_result"
    }
   ],
   "source": [
    "type(a)"
   ]
  },
  {
   "cell_type": "code",
   "execution_count": 38,
   "id": "696f4041",
   "metadata": {},
   "outputs": [
    {
     "data": {
      "text/plain": [
       "float"
      ]
     },
     "execution_count": 38,
     "metadata": {},
     "output_type": "execute_result"
    }
   ],
   "source": [
    "type(b)"
   ]
  },
  {
   "cell_type": "code",
   "execution_count": 41,
   "id": "c0796d4a",
   "metadata": {},
   "outputs": [
    {
     "data": {
      "text/plain": [
       "float"
      ]
     },
     "execution_count": 41,
     "metadata": {},
     "output_type": "execute_result"
    }
   ],
   "source": [
    "type(c)"
   ]
  },
  {
   "cell_type": "code",
   "execution_count": 42,
   "id": "7ef4f60c",
   "metadata": {},
   "outputs": [
    {
     "data": {
      "text/plain": [
       "float"
      ]
     },
     "execution_count": 42,
     "metadata": {},
     "output_type": "execute_result"
    }
   ],
   "source": [
    "type(d)"
   ]
  },
  {
   "cell_type": "code",
   "execution_count": 55,
   "id": "e22ebe29",
   "metadata": {},
   "outputs": [],
   "source": [
    "# string : anything between \" \" (double quotes), ' ' (raw string)\n",
    "\n",
    "a = \"shariq\"\n",
    "b = \"c\"\n",
    "c = \"1\"\n",
    "d = \"1.0\"\n",
    "e = \"\"\"hi this is sahrqi\n",
    "\n",
    "sajdnansdasdfdsf\n",
    "\"\"\""
   ]
  },
  {
   "cell_type": "code",
   "execution_count": 44,
   "id": "cd14d243",
   "metadata": {},
   "outputs": [
    {
     "data": {
      "text/plain": [
       "str"
      ]
     },
     "execution_count": 44,
     "metadata": {},
     "output_type": "execute_result"
    }
   ],
   "source": [
    "type(a)"
   ]
  },
  {
   "cell_type": "code",
   "execution_count": 45,
   "id": "68264729",
   "metadata": {},
   "outputs": [
    {
     "data": {
      "text/plain": [
       "str"
      ]
     },
     "execution_count": 45,
     "metadata": {},
     "output_type": "execute_result"
    }
   ],
   "source": [
    "type(b)"
   ]
  },
  {
   "cell_type": "code",
   "execution_count": 46,
   "id": "984a6560",
   "metadata": {},
   "outputs": [
    {
     "data": {
      "text/plain": [
       "str"
      ]
     },
     "execution_count": 46,
     "metadata": {},
     "output_type": "execute_result"
    }
   ],
   "source": [
    "type(c)"
   ]
  },
  {
   "cell_type": "code",
   "execution_count": 47,
   "id": "290da5be",
   "metadata": {},
   "outputs": [
    {
     "data": {
      "text/plain": [
       "str"
      ]
     },
     "execution_count": 47,
     "metadata": {},
     "output_type": "execute_result"
    }
   ],
   "source": [
    "type(d)"
   ]
  },
  {
   "cell_type": "code",
   "execution_count": 49,
   "id": "52f87781",
   "metadata": {},
   "outputs": [],
   "source": [
    "# bool: True and False"
   ]
  },
  {
   "cell_type": "code",
   "execution_count": 50,
   "id": "bb5f8013",
   "metadata": {},
   "outputs": [],
   "source": [
    "a = True"
   ]
  },
  {
   "cell_type": "code",
   "execution_count": 51,
   "id": "f338669e",
   "metadata": {},
   "outputs": [],
   "source": [
    "b = False"
   ]
  },
  {
   "cell_type": "markdown",
   "id": "685655f4",
   "metadata": {},
   "source": [
    "### print statement"
   ]
  },
  {
   "cell_type": "code",
   "execution_count": 52,
   "id": "629cf9be",
   "metadata": {},
   "outputs": [
    {
     "data": {
      "text/plain": [
       "True"
      ]
     },
     "execution_count": 52,
     "metadata": {},
     "output_type": "execute_result"
    }
   ],
   "source": [
    "a"
   ]
  },
  {
   "cell_type": "code",
   "execution_count": 53,
   "id": "940dee44",
   "metadata": {},
   "outputs": [
    {
     "data": {
      "text/plain": [
       "bool"
      ]
     },
     "execution_count": 53,
     "metadata": {},
     "output_type": "execute_result"
    }
   ],
   "source": [
    "type(a)"
   ]
  },
  {
   "cell_type": "code",
   "execution_count": 56,
   "id": "2f9abf8b",
   "metadata": {},
   "outputs": [
    {
     "name": "stdout",
     "output_type": "stream",
     "text": [
      "shariq\n"
     ]
    }
   ],
   "source": [
    "# you must and must not use print\n",
    "print(a)"
   ]
  },
  {
   "cell_type": "code",
   "execution_count": 57,
   "id": "8a75e3dd",
   "metadata": {},
   "outputs": [
    {
     "name": "stdout",
     "output_type": "stream",
     "text": [
      "asdas\n"
     ]
    },
    {
     "data": {
      "text/plain": [
       "'asdas'"
      ]
     },
     "execution_count": 57,
     "metadata": {},
     "output_type": "execute_result"
    }
   ],
   "source": [
    "# built in methods\n",
    "input()"
   ]
  },
  {
   "cell_type": "code",
   "execution_count": 58,
   "id": "4c4edbd8",
   "metadata": {},
   "outputs": [
    {
     "name": "stdout",
     "output_type": "stream",
     "text": [
      "4\n"
     ]
    },
    {
     "data": {
      "text/plain": [
       "'4'"
      ]
     },
     "execution_count": 58,
     "metadata": {},
     "output_type": "execute_result"
    }
   ],
   "source": [
    "input()"
   ]
  },
  {
   "cell_type": "code",
   "execution_count": 59,
   "id": "cf9a4965",
   "metadata": {},
   "outputs": [
    {
     "name": "stdout",
     "output_type": "stream",
     "text": [
      "4\n"
     ]
    }
   ],
   "source": [
    "a = input() # dont use input as variable, dont use reserved keyword as variable"
   ]
  },
  {
   "cell_type": "code",
   "execution_count": 60,
   "id": "7cfd0d24",
   "metadata": {},
   "outputs": [
    {
     "data": {
      "text/plain": [
       "'4'"
      ]
     },
     "execution_count": 60,
     "metadata": {},
     "output_type": "execute_result"
    }
   ],
   "source": [
    "a"
   ]
  },
  {
   "cell_type": "code",
   "execution_count": 61,
   "id": "526950c8",
   "metadata": {},
   "outputs": [],
   "source": [
    "# eval (evaluation)"
   ]
  },
  {
   "cell_type": "code",
   "execution_count": 62,
   "id": "3a1c54c9",
   "metadata": {},
   "outputs": [],
   "source": [
    "# a = eval(input())\n",
    "\n",
    "a = eval('3')"
   ]
  },
  {
   "cell_type": "code",
   "execution_count": 63,
   "id": "4bdbeaf0",
   "metadata": {},
   "outputs": [
    {
     "data": {
      "text/plain": [
       "3"
      ]
     },
     "execution_count": 63,
     "metadata": {},
     "output_type": "execute_result"
    }
   ],
   "source": [
    "a"
   ]
  },
  {
   "cell_type": "code",
   "execution_count": 64,
   "id": "4796fa4e",
   "metadata": {},
   "outputs": [
    {
     "name": "stdout",
     "output_type": "stream",
     "text": [
      "343\n"
     ]
    }
   ],
   "source": [
    "a = eval(input())"
   ]
  },
  {
   "cell_type": "code",
   "execution_count": 65,
   "id": "47ac3f67",
   "metadata": {},
   "outputs": [
    {
     "data": {
      "text/plain": [
       "343"
      ]
     },
     "execution_count": 65,
     "metadata": {},
     "output_type": "execute_result"
    }
   ],
   "source": [
    "a\n"
   ]
  },
  {
   "cell_type": "code",
   "execution_count": 66,
   "id": "fe1662b2",
   "metadata": {},
   "outputs": [
    {
     "name": "stdout",
     "output_type": "stream",
     "text": [
      "3.3\n"
     ]
    }
   ],
   "source": [
    "a = eval(input())"
   ]
  },
  {
   "cell_type": "code",
   "execution_count": 68,
   "id": "ac09bff2",
   "metadata": {},
   "outputs": [
    {
     "data": {
      "text/plain": [
       "3.3"
      ]
     },
     "execution_count": 68,
     "metadata": {},
     "output_type": "execute_result"
    }
   ],
   "source": [
    "a"
   ]
  },
  {
   "cell_type": "code",
   "execution_count": 69,
   "id": "553f9231",
   "metadata": {},
   "outputs": [
    {
     "name": "stdout",
     "output_type": "stream",
     "text": [
      "4\n"
     ]
    },
    {
     "data": {
      "text/plain": [
       "4"
      ]
     },
     "execution_count": 69,
     "metadata": {},
     "output_type": "execute_result"
    }
   ],
   "source": [
    "int(input())"
   ]
  },
  {
   "cell_type": "code",
   "execution_count": 70,
   "id": "5a61ed5e",
   "metadata": {},
   "outputs": [],
   "source": [
    "# eval(input())"
   ]
  },
  {
   "cell_type": "code",
   "execution_count": 72,
   "id": "27ad745a",
   "metadata": {},
   "outputs": [],
   "source": [
    "# input(): converts input to string"
   ]
  },
  {
   "cell_type": "markdown",
   "id": "1d1ef1fb",
   "metadata": {},
   "source": []
  },
  {
   "cell_type": "markdown",
   "id": "4869d2d5",
   "metadata": {},
   "source": [
    "### functions\n"
   ]
  },
  {
   "cell_type": "markdown",
   "id": "5061c332",
   "metadata": {},
   "source": [
    "1. outside functions\n",
    "2. inside functions (pre built, built in)\n",
    "3. user defined function"
   ]
  },
  {
   "cell_type": "code",
   "execution_count": 119,
   "id": "c75a4f86",
   "metadata": {},
   "outputs": [],
   "source": [
    "# def <name of function>():\n",
    "def operation(c, d):\n",
    "    pass # when you dont want to do anything\n",
    "\n",
    "\n",
    "\n",
    "operation(a, b)"
   ]
  },
  {
   "cell_type": "code",
   "execution_count": 79,
   "id": "0da2e2ac",
   "metadata": {},
   "outputs": [
    {
     "name": "stdout",
     "output_type": "stream",
     "text": [
      "5\n"
     ]
    }
   ],
   "source": [
    "def operation(c, d):\n",
    "    print(c + d)\n",
    "\n",
    "\n",
    "\n",
    "operation(3, 2)"
   ]
  },
  {
   "cell_type": "code",
   "execution_count": 81,
   "id": "7b30ce51",
   "metadata": {},
   "outputs": [],
   "source": [
    "def operation(c, d):\n",
    "    return c + d\n",
    "\n",
    "\n",
    "a = operation(3, 2)"
   ]
  },
  {
   "cell_type": "code",
   "execution_count": 82,
   "id": "35be9902",
   "metadata": {},
   "outputs": [
    {
     "data": {
      "text/plain": [
       "5"
      ]
     },
     "execution_count": 82,
     "metadata": {},
     "output_type": "execute_result"
    }
   ],
   "source": [
    "a"
   ]
  },
  {
   "cell_type": "code",
   "execution_count": 87,
   "id": "af20ba30",
   "metadata": {},
   "outputs": [],
   "source": [
    "def operation(gsm, smart_meter = 0):\n",
    "    return gsm + smart_meter\n",
    "\n",
    "\n",
    "a = operation(3,23)"
   ]
  },
  {
   "cell_type": "code",
   "execution_count": 88,
   "id": "f16a1c59",
   "metadata": {},
   "outputs": [
    {
     "data": {
      "text/plain": [
       "26"
      ]
     },
     "execution_count": 88,
     "metadata": {},
     "output_type": "execute_result"
    }
   ],
   "source": [
    "a"
   ]
  },
  {
   "cell_type": "markdown",
   "id": "7f250504",
   "metadata": {},
   "source": [
    "### Homework\n",
    "\n",
    "create a function that takes user input and performs all possible mathematical operation"
   ]
  },
  {
   "cell_type": "markdown",
   "id": "3d3a243b",
   "metadata": {},
   "source": [
    "### conditions and loops"
   ]
  },
  {
   "cell_type": "code",
   "execution_count": 93,
   "id": "6c07a7a9",
   "metadata": {},
   "outputs": [],
   "source": [
    "a = 12 #assignment"
   ]
  },
  {
   "cell_type": "code",
   "execution_count": 91,
   "id": "dd0ed0e7",
   "metadata": {},
   "outputs": [
    {
     "name": "stdout",
     "output_type": "stream",
     "text": [
      "buy 1 kg\n"
     ]
    }
   ],
   "source": [
    "if a == 10:\n",
    "    print(\"buy 1 kg\")\n",
    "\n",
    "else:\n",
    "    print(\"dont buy it\")"
   ]
  },
  {
   "cell_type": "code",
   "execution_count": 94,
   "id": "cce0233e",
   "metadata": {},
   "outputs": [
    {
     "name": "stdout",
     "output_type": "stream",
     "text": [
      "lets lookout for another market\n"
     ]
    }
   ],
   "source": [
    "if a == 10:\n",
    "    print(\"buy 1 kg\")\n",
    "elif a > 10:\n",
    "    print(\"lets lookout for another market\")\n",
    "else:\n",
    "    print(\"come back\")"
   ]
  },
  {
   "cell_type": "code",
   "execution_count": 95,
   "id": "466dfa17",
   "metadata": {},
   "outputs": [],
   "source": [
    "# if <condition>:\n",
    "#     do this"
   ]
  },
  {
   "cell_type": "code",
   "execution_count": 96,
   "id": "39e0676a",
   "metadata": {},
   "outputs": [
    {
     "data": {
      "text/plain": [
       "'\\nif <condition>:\\n    do_something\\nelif <condition>:\\n    do_something\\nelse:\\n    do_something\\n\\n'"
      ]
     },
     "execution_count": 96,
     "metadata": {},
     "output_type": "execute_result"
    }
   ],
   "source": [
    "'''\n",
    "if <condition>:\n",
    "    do_something\n",
    "elif <condition>:\n",
    "    do_something\n",
    "else:\n",
    "    do_something\n",
    "\n",
    "'''"
   ]
  },
  {
   "cell_type": "markdown",
   "id": "22a77944",
   "metadata": {},
   "source": [
    "### Homework\n",
    "\n",
    "1. use if condition to take user input about his marks in different subject\n",
    "2. if his marks in that subject is less 33, print fail\n",
    "3. else print pass"
   ]
  },
  {
   "cell_type": "code",
   "execution_count": null,
   "id": "2a5a7df0",
   "metadata": {},
   "outputs": [],
   "source": [
    "marks_hindi = input(\"enter hindi marks\")\n",
    "if marks_hindi < 33:\n",
    "    print"
   ]
  },
  {
   "cell_type": "code",
   "execution_count": 97,
   "id": "e6527d90",
   "metadata": {},
   "outputs": [],
   "source": [
    "# username and password\n",
    "username = \"shariq\"\n",
    "password = \"abcd\"\n"
   ]
  },
  {
   "cell_type": "code",
   "execution_count": 101,
   "id": "78f28e53",
   "metadata": {},
   "outputs": [
    {
     "name": "stdout",
     "output_type": "stream",
     "text": [
      "enter usernamesha\n",
      "enter passwordabcd\n",
      "no user found\n"
     ]
    }
   ],
   "source": [
    "user = input(\"enter username: \")\n",
    "passw = input(\"enter password: \")\n",
    "\n",
    "\n",
    "if user == username:\n",
    "    print(\"enter password now: \")\n",
    "    if passw == password:\n",
    "        print(\"access granted: \")\n",
    "    \n",
    "    else:\n",
    "        print(\"no\")\n",
    "\n",
    "else:\n",
    "    print(\"no user found\")"
   ]
  },
  {
   "cell_type": "code",
   "execution_count": 102,
   "id": "d5b983ad",
   "metadata": {},
   "outputs": [],
   "source": [
    "# looping"
   ]
  },
  {
   "cell_type": "code",
   "execution_count": 104,
   "id": "d4053fb2",
   "metadata": {},
   "outputs": [],
   "source": [
    "a = \"shariq\"\n"
   ]
  },
  {
   "cell_type": "code",
   "execution_count": 105,
   "id": "b6823e5e",
   "metadata": {},
   "outputs": [
    {
     "data": {
      "text/plain": [
       "'s'"
      ]
     },
     "execution_count": 105,
     "metadata": {},
     "output_type": "execute_result"
    }
   ],
   "source": [
    "a[0]"
   ]
  },
  {
   "cell_type": "code",
   "execution_count": 106,
   "id": "770dd0b5",
   "metadata": {},
   "outputs": [
    {
     "data": {
      "text/plain": [
       "'h'"
      ]
     },
     "execution_count": 106,
     "metadata": {},
     "output_type": "execute_result"
    }
   ],
   "source": [
    "a[1]"
   ]
  },
  {
   "cell_type": "code",
   "execution_count": 107,
   "id": "e30d1e50",
   "metadata": {},
   "outputs": [
    {
     "data": {
      "text/plain": [
       "'a'"
      ]
     },
     "execution_count": 107,
     "metadata": {},
     "output_type": "execute_result"
    }
   ],
   "source": [
    "a[2]"
   ]
  },
  {
   "cell_type": "code",
   "execution_count": 108,
   "id": "79684ee9",
   "metadata": {},
   "outputs": [
    {
     "data": {
      "text/plain": [
       "'r'"
      ]
     },
     "execution_count": 108,
     "metadata": {},
     "output_type": "execute_result"
    }
   ],
   "source": [
    "a[3]"
   ]
  },
  {
   "cell_type": "code",
   "execution_count": 109,
   "id": "ff5a9163",
   "metadata": {},
   "outputs": [
    {
     "data": {
      "text/plain": [
       "'i'"
      ]
     },
     "execution_count": 109,
     "metadata": {},
     "output_type": "execute_result"
    }
   ],
   "source": [
    "a[4]"
   ]
  },
  {
   "cell_type": "code",
   "execution_count": 110,
   "id": "40265fb2",
   "metadata": {},
   "outputs": [],
   "source": [
    "# for i in iterable:\n",
    "#     print(i)"
   ]
  },
  {
   "cell_type": "code",
   "execution_count": 111,
   "id": "52ee2bd3",
   "metadata": {},
   "outputs": [
    {
     "data": {
      "text/plain": [
       "'\\nwhile <condition>:\\n    do_something\\n\\n'"
      ]
     },
     "execution_count": 111,
     "metadata": {},
     "output_type": "execute_result"
    }
   ],
   "source": [
    "'''\n",
    "while <condition>:\n",
    "    do_something\n",
    "\n",
    "'''"
   ]
  },
  {
   "cell_type": "code",
   "execution_count": 113,
   "id": "956f1eec",
   "metadata": {},
   "outputs": [
    {
     "name": "stdout",
     "output_type": "stream",
     "text": [
      "s\n",
      "h\n",
      "a\n",
      "r\n",
      "i\n",
      "q\n"
     ]
    }
   ],
   "source": [
    "for alphabet in a:\n",
    "    print(alphabet)"
   ]
  },
  {
   "cell_type": "code",
   "execution_count": 114,
   "id": "e3028a97",
   "metadata": {},
   "outputs": [
    {
     "name": "stdout",
     "output_type": "stream",
     "text": [
      "s\n",
      "h\n",
      "a\n",
      "r\n",
      "i\n",
      "q\n"
     ]
    }
   ],
   "source": [
    "for alphabet in \"shariq\":\n",
    "    print(alphabet)"
   ]
  },
  {
   "cell_type": "code",
   "execution_count": null,
   "id": "be0baf3a",
   "metadata": {},
   "outputs": [],
   "source": [
    "# infinite: true\n",
    "while True:\n",
    "    print(3)"
   ]
  },
  {
   "cell_type": "code",
   "execution_count": 117,
   "id": "203d0109",
   "metadata": {},
   "outputs": [
    {
     "name": "stdout",
     "output_type": "stream",
     "text": [
      "10\n",
      "11\n",
      "12\n",
      "13\n",
      "14\n",
      "15\n",
      "16\n",
      "17\n",
      "18\n",
      "19\n"
     ]
    }
   ],
   "source": [
    "a = 10\n",
    "\n",
    "while a < 20:\n",
    "    print(a)\n",
    "    a = a + 1\n",
    "    "
   ]
  },
  {
   "cell_type": "code",
   "execution_count": 116,
   "id": "347942b3",
   "metadata": {},
   "outputs": [],
   "source": [
    "# OOPs: abstraciton, polymorphism, instance, encapsulation"
   ]
  },
  {
   "cell_type": "code",
   "execution_count": null,
   "id": "faf0e61c",
   "metadata": {},
   "outputs": [],
   "source": []
  }
 ],
 "metadata": {
  "kernelspec": {
   "display_name": "Python 3",
   "language": "python",
   "name": "python3"
  },
  "language_info": {
   "codemirror_mode": {
    "name": "ipython",
    "version": 3
   },
   "file_extension": ".py",
   "mimetype": "text/x-python",
   "name": "python",
   "nbconvert_exporter": "python",
   "pygments_lexer": "ipython3",
   "version": "3.8.8"
  }
 },
 "nbformat": 4,
 "nbformat_minor": 5
}
